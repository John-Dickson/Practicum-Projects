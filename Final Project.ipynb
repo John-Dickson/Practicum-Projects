{
 "cells": [
  {
   "cell_type": "markdown",
   "id": "a33c1bd9",
   "metadata": {
    "toc": true
   },
   "source": [
    "<h1>Table of Contents<span class=\"tocSkip\"></span></h1>\n",
    "<div class=\"toc\"><ul class=\"toc-item\"><li><span><a href=\"#Introduction\" data-toc-modified-id=\"Introduction-1\"><span class=\"toc-item-num\">1&nbsp;&nbsp;</span>Introduction</a></span></li><li><span><a href=\"#Initialization-and-overview\" data-toc-modified-id=\"Initialization-and-overview-2\"><span class=\"toc-item-num\">2&nbsp;&nbsp;</span>Initialization and overview</a></span><ul class=\"toc-item\"><li><span><a href=\"#Loading-Libraries\" data-toc-modified-id=\"Loading-Libraries-2.1\"><span class=\"toc-item-num\">2.1&nbsp;&nbsp;</span>Loading Libraries</a></span></li><li><span><a href=\"#Loading-Data\" data-toc-modified-id=\"Loading-Data-2.2\"><span class=\"toc-item-num\">2.2&nbsp;&nbsp;</span>Loading Data</a></span></li><li><span><a href=\"#Checking-data\" data-toc-modified-id=\"Checking-data-2.3\"><span class=\"toc-item-num\">2.3&nbsp;&nbsp;</span>Checking data</a></span><ul class=\"toc-item\"><li><span><a href=\"#Function-for-checking-data\" data-toc-modified-id=\"Function-for-checking-data-2.3.1\"><span class=\"toc-item-num\">2.3.1&nbsp;&nbsp;</span>Function for checking data</a></span></li><li><span><a href=\"#Contract\" data-toc-modified-id=\"Contract-2.3.2\"><span class=\"toc-item-num\">2.3.2&nbsp;&nbsp;</span>Contract</a></span></li><li><span><a href=\"#Internet\" data-toc-modified-id=\"Internet-2.3.3\"><span class=\"toc-item-num\">2.3.3&nbsp;&nbsp;</span>Internet</a></span></li><li><span><a href=\"#Personal\" data-toc-modified-id=\"Personal-2.3.4\"><span class=\"toc-item-num\">2.3.4&nbsp;&nbsp;</span>Personal</a></span></li><li><span><a href=\"#Phone\" data-toc-modified-id=\"Phone-2.3.5\"><span class=\"toc-item-num\">2.3.5&nbsp;&nbsp;</span>Phone</a></span></li></ul></li><li><span><a href=\"#Conclusions-From-Data-Check\" data-toc-modified-id=\"Conclusions-From-Data-Check-2.4\"><span class=\"toc-item-num\">2.4&nbsp;&nbsp;</span>Conclusions From Data Check</a></span></li></ul></li><li><span><a href=\"#Preparing-Data\" data-toc-modified-id=\"Preparing-Data-3\"><span class=\"toc-item-num\">3&nbsp;&nbsp;</span>Preparing Data</a></span><ul class=\"toc-item\"><li><span><a href=\"#Converting-Data\" data-toc-modified-id=\"Converting-Data-3.1\"><span class=\"toc-item-num\">3.1&nbsp;&nbsp;</span>Converting Data</a></span><ul class=\"toc-item\"><li><span><a href=\"#Contract\" data-toc-modified-id=\"Contract-3.1.1\"><span class=\"toc-item-num\">3.1.1&nbsp;&nbsp;</span>Contract</a></span></li><li><span><a href=\"#Internet\" data-toc-modified-id=\"Internet-3.1.2\"><span class=\"toc-item-num\">3.1.2&nbsp;&nbsp;</span>Internet</a></span></li><li><span><a href=\"#Personal\" data-toc-modified-id=\"Personal-3.1.3\"><span class=\"toc-item-num\">3.1.3&nbsp;&nbsp;</span>Personal</a></span></li><li><span><a href=\"#Phone\" data-toc-modified-id=\"Phone-3.1.4\"><span class=\"toc-item-num\">3.1.4&nbsp;&nbsp;</span>Phone</a></span></li></ul></li></ul></li><li><span><a href=\"#Data-Analysis\" data-toc-modified-id=\"Data-Analysis-4\"><span class=\"toc-item-num\">4&nbsp;&nbsp;</span>Data Analysis</a></span><ul class=\"toc-item\"><li><ul class=\"toc-item\"><li><span><a href=\"#Contract\" data-toc-modified-id=\"Contract-4.0.1\"><span class=\"toc-item-num\">4.0.1&nbsp;&nbsp;</span>Contract</a></span></li><li><span><a href=\"#Internet\" data-toc-modified-id=\"Internet-4.0.2\"><span class=\"toc-item-num\">4.0.2&nbsp;&nbsp;</span>Internet</a></span></li><li><span><a href=\"#Personal\" data-toc-modified-id=\"Personal-4.0.3\"><span class=\"toc-item-num\">4.0.3&nbsp;&nbsp;</span>Personal</a></span></li><li><span><a href=\"#Phone\" data-toc-modified-id=\"Phone-4.0.4\"><span class=\"toc-item-num\">4.0.4&nbsp;&nbsp;</span>Phone</a></span></li></ul></li><li><span><a href=\"#Planning\" data-toc-modified-id=\"Planning-4.1\"><span class=\"toc-item-num\">4.1&nbsp;&nbsp;</span>Planning</a></span></li></ul></li><li><span><a href=\"#Creating-Models\" data-toc-modified-id=\"Creating-Models-5\"><span class=\"toc-item-num\">5&nbsp;&nbsp;</span>Creating Models</a></span><ul class=\"toc-item\"><li><span><a href=\"#Enriching-Data\" data-toc-modified-id=\"Enriching-Data-5.1\"><span class=\"toc-item-num\">5.1&nbsp;&nbsp;</span>Enriching Data</a></span><ul class=\"toc-item\"><li><span><a href=\"#Merging\" data-toc-modified-id=\"Merging-5.1.1\"><span class=\"toc-item-num\">5.1.1&nbsp;&nbsp;</span>Merging</a></span></li><li><span><a href=\"#Filling-new-missing-values\" data-toc-modified-id=\"Filling-new-missing-values-5.1.2\"><span class=\"toc-item-num\">5.1.2&nbsp;&nbsp;</span>Filling new missing values</a></span></li><li><span><a href=\"#Creating-time-variable\" data-toc-modified-id=\"Creating-time-variable-5.1.3\"><span class=\"toc-item-num\">5.1.3&nbsp;&nbsp;</span>Creating time variable</a></span></li><li><span><a href=\"#finding-an-error\" data-toc-modified-id=\"finding-an-error-5.1.4\"><span class=\"toc-item-num\">5.1.4&nbsp;&nbsp;</span>finding an error</a></span></li></ul></li><li><span><a href=\"#imbalance\" data-toc-modified-id=\"imbalance-5.2\"><span class=\"toc-item-num\">5.2&nbsp;&nbsp;</span>imbalance</a></span></li><li><span><a href=\"#Creating-features-and-Targets\" data-toc-modified-id=\"Creating-features-and-Targets-5.3\"><span class=\"toc-item-num\">5.3&nbsp;&nbsp;</span>Creating features and Targets</a></span></li><li><span><a href=\"#Decision-Tree-Classifier\" data-toc-modified-id=\"Decision-Tree-Classifier-5.4\"><span class=\"toc-item-num\">5.4&nbsp;&nbsp;</span>Decision Tree Classifier</a></span></li><li><span><a href=\"#Random-Forest-Classifier\" data-toc-modified-id=\"Random-Forest-Classifier-5.5\"><span class=\"toc-item-num\">5.5&nbsp;&nbsp;</span>Random Forest Classifier</a></span></li><li><span><a href=\"#LGBM-Classifier\" data-toc-modified-id=\"LGBM-Classifier-5.6\"><span class=\"toc-item-num\">5.6&nbsp;&nbsp;</span>LGBM Classifier</a></span></li><li><span><a href=\"#Catboost-Classifier\" data-toc-modified-id=\"Catboost-Classifier-5.7\"><span class=\"toc-item-num\">5.7&nbsp;&nbsp;</span>Catboost Classifier</a></span></li><li><span><a href=\"#XGB-Classifier\" data-toc-modified-id=\"XGB-Classifier-5.8\"><span class=\"toc-item-num\">5.8&nbsp;&nbsp;</span>XGB Classifier</a></span></li></ul></li><li><span><a href=\"#Conclusions\" data-toc-modified-id=\"Conclusions-6\"><span class=\"toc-item-num\">6&nbsp;&nbsp;</span>Conclusions</a></span></li><li><span><a href=\"#Final-Report\" data-toc-modified-id=\"Final-Report-7\"><span class=\"toc-item-num\">7&nbsp;&nbsp;</span>Final Report</a></span></li></ul></div>"
   ]
  },
  {
   "cell_type": "markdown",
   "id": "5403d31e",
   "metadata": {},
   "source": [
    "This project is the final project for the practicum course, the goal was to achieve an AUC-ROC score of 0.85 to complete the project successfully."
   ]
  },
  {
   "cell_type": "markdown",
   "id": "59b97160",
   "metadata": {},
   "source": [
    "## Introduction"
   ]
  },
  {
   "cell_type": "markdown",
   "id": "32f60c3a",
   "metadata": {},
   "source": [
    "Interconnect has asked as to create a model for predicting the churn of their clients, and they have given us some data to make this possible. They have given us some data to make this possible. \n",
    "\n",
    "There are 2 main kinds of service, Landline and Internet, customers may have one or both of these. If they have internet they can also have other services such as internet security, dedicated technical support, cloud storage, and TV streaming services. We will use this data to create a model that predicts if a client is about to leave the service so that they can send them promotions that will encourage them to stay. "
   ]
  },
  {
   "cell_type": "markdown",
   "id": "cb5d0287",
   "metadata": {},
   "source": [
    "## Initialization and overview"
   ]
  },
  {
   "cell_type": "markdown",
   "id": "8a874dde",
   "metadata": {},
   "source": [
    "### Loading Libraries"
   ]
  },
  {
   "cell_type": "code",
   "execution_count": 1,
   "id": "81427f1e",
   "metadata": {},
   "outputs": [],
   "source": [
    "from IPython.display import clear_output\n",
    "import pandas as pd\n",
    "import matplotlib.pyplot as plt\n",
    "from sklearn.model_selection import train_test_split\n",
    "from sklearn.utils import shuffle"
   ]
  },
  {
   "cell_type": "markdown",
   "id": "70a996da",
   "metadata": {},
   "source": [
    "### Loading Data"
   ]
  },
  {
   "cell_type": "code",
   "execution_count": 2,
   "id": "889f4395",
   "metadata": {},
   "outputs": [],
   "source": [
    "df_contract = pd.read_csv('contract.csv')\n",
    "df_internet = pd.read_csv('internet.csv')\n",
    "df_personal = pd.read_csv('personal.csv')\n",
    "df_phone = pd.read_csv('phone.csv')\n",
    "dataframes_lst = ['df_contract', 'df_internet', 'df_personal', 'df_phone']"
   ]
  },
  {
   "cell_type": "markdown",
   "id": "e1fbbf2b",
   "metadata": {},
   "source": [
    "### Checking data"
   ]
  },
  {
   "cell_type": "markdown",
   "id": "009413c0",
   "metadata": {},
   "source": [
    "#### Function for checking data"
   ]
  },
  {
   "cell_type": "code",
   "execution_count": 3,
   "id": "f857ceba",
   "metadata": {},
   "outputs": [],
   "source": [
    "def data_check(df):\n",
    "    print('\\033[94m''dataframe shape:''\\033[90m')\n",
    "    print(df.shape)\n",
    "    print()\n",
    "    print('\\033[94m''df column names:''\\033[90m')\n",
    "    print(df.columns.tolist())\n",
    "    print()\n",
    "    print('\\033[94m''df info:''\\033[90m')\n",
    "    print(df.info())\n",
    "    print()\n",
    "    print('\\033[94m''Percentage of missing values:''\\033[90m')\n",
    "    for col in df.columns.tolist():\n",
    "        missing_val = df[col].isna().sum() / df.shape[0] * 100\n",
    "# We only want to display columns with missing data here. \n",
    "        if missing_val > 0:\n",
    "            print(col, 'NaN%:', missing_val)\n",
    "    print()\n",
    "    print('\\033[94m''Number of duplicates:''\\033[90m')\n",
    "    print(df.duplicated().sum())\n",
    "    print()\n",
    "    print('\\033[94m''print a few columns:''\\033[90m')\n",
    "    with pd.option_context('display.max_rows', 10,\n",
    "                       'display.max_columns', None,\n",
    "                       'display.width', 1000,\n",
    "                       'display.precision', 3,\n",
    "                       'display.colheader_justify', 'center'):\n",
    "        print(display(df.sample(10)))"
   ]
  },
  {
   "cell_type": "markdown",
   "id": "c4f44908",
   "metadata": {},
   "source": [
    "#### Contract"
   ]
  },
  {
   "cell_type": "code",
   "execution_count": 4,
   "id": "69cdf835",
   "metadata": {
    "scrolled": true
   },
   "outputs": [
    {
     "name": "stdout",
     "output_type": "stream",
     "text": [
      "\u001b[94mdataframe shape:\u001b[90m\n",
      "(7043, 8)\n",
      "\n",
      "\u001b[94mdf column names:\u001b[90m\n",
      "['customerID', 'BeginDate', 'EndDate', 'Type', 'PaperlessBilling', 'PaymentMethod', 'MonthlyCharges', 'TotalCharges']\n",
      "\n",
      "\u001b[94mdf info:\u001b[90m\n",
      "<class 'pandas.core.frame.DataFrame'>\n",
      "RangeIndex: 7043 entries, 0 to 7042\n",
      "Data columns (total 8 columns):\n",
      " #   Column            Non-Null Count  Dtype  \n",
      "---  ------            --------------  -----  \n",
      " 0   customerID        7043 non-null   object \n",
      " 1   BeginDate         7043 non-null   object \n",
      " 2   EndDate           7043 non-null   object \n",
      " 3   Type              7043 non-null   object \n",
      " 4   PaperlessBilling  7043 non-null   object \n",
      " 5   PaymentMethod     7043 non-null   object \n",
      " 6   MonthlyCharges    7043 non-null   float64\n",
      " 7   TotalCharges      7043 non-null   object \n",
      "dtypes: float64(1), object(7)\n",
      "memory usage: 440.3+ KB\n",
      "None\n",
      "\n",
      "\u001b[94mPercentage of missing values:\u001b[90m\n",
      "\n",
      "\u001b[94mNumber of duplicates:\u001b[90m\n",
      "0\n",
      "\n",
      "\u001b[94mprint a few columns:\u001b[90m\n"
     ]
    },
    {
     "data": {
      "text/html": [
       "<div>\n",
       "<style scoped>\n",
       "    .dataframe tbody tr th:only-of-type {\n",
       "        vertical-align: middle;\n",
       "    }\n",
       "\n",
       "    .dataframe tbody tr th {\n",
       "        vertical-align: top;\n",
       "    }\n",
       "\n",
       "    .dataframe thead th {\n",
       "        text-align: right;\n",
       "    }\n",
       "</style>\n",
       "<table border=\"1\" class=\"dataframe\">\n",
       "  <thead>\n",
       "    <tr style=\"text-align: center;\">\n",
       "      <th></th>\n",
       "      <th>customerID</th>\n",
       "      <th>BeginDate</th>\n",
       "      <th>EndDate</th>\n",
       "      <th>Type</th>\n",
       "      <th>PaperlessBilling</th>\n",
       "      <th>PaymentMethod</th>\n",
       "      <th>MonthlyCharges</th>\n",
       "      <th>TotalCharges</th>\n",
       "    </tr>\n",
       "  </thead>\n",
       "  <tbody>\n",
       "    <tr>\n",
       "      <th>401</th>\n",
       "      <td>9442-JTWDL</td>\n",
       "      <td>2019-03-01</td>\n",
       "      <td>No</td>\n",
       "      <td>One year</td>\n",
       "      <td>No</td>\n",
       "      <td>Credit card (automatic)</td>\n",
       "      <td>20.05</td>\n",
       "      <td>237.7</td>\n",
       "    </tr>\n",
       "    <tr>\n",
       "      <th>1146</th>\n",
       "      <td>1430-SFQSA</td>\n",
       "      <td>2017-09-01</td>\n",
       "      <td>No</td>\n",
       "      <td>One year</td>\n",
       "      <td>No</td>\n",
       "      <td>Mailed check</td>\n",
       "      <td>35.60</td>\n",
       "      <td>1072.6</td>\n",
       "    </tr>\n",
       "    <tr>\n",
       "      <th>5152</th>\n",
       "      <td>8807-OPMBM</td>\n",
       "      <td>2015-07-01</td>\n",
       "      <td>No</td>\n",
       "      <td>Two year</td>\n",
       "      <td>Yes</td>\n",
       "      <td>Credit card (automatic)</td>\n",
       "      <td>25.65</td>\n",
       "      <td>1388</td>\n",
       "    </tr>\n",
       "    <tr>\n",
       "      <th>2544</th>\n",
       "      <td>7285-KLOTR</td>\n",
       "      <td>2019-02-01</td>\n",
       "      <td>No</td>\n",
       "      <td>One year</td>\n",
       "      <td>No</td>\n",
       "      <td>Electronic check</td>\n",
       "      <td>78.85</td>\n",
       "      <td>876.75</td>\n",
       "    </tr>\n",
       "    <tr>\n",
       "      <th>3511</th>\n",
       "      <td>3785-KTYSH</td>\n",
       "      <td>2015-09-01</td>\n",
       "      <td>No</td>\n",
       "      <td>Two year</td>\n",
       "      <td>No</td>\n",
       "      <td>Mailed check</td>\n",
       "      <td>24.60</td>\n",
       "      <td>1279</td>\n",
       "    </tr>\n",
       "    <tr>\n",
       "      <th>4180</th>\n",
       "      <td>5482-PLVPE</td>\n",
       "      <td>2019-11-01</td>\n",
       "      <td>2020-01-01 00:00:00</td>\n",
       "      <td>Month-to-month</td>\n",
       "      <td>No</td>\n",
       "      <td>Electronic check</td>\n",
       "      <td>24.35</td>\n",
       "      <td>41.85</td>\n",
       "    </tr>\n",
       "    <tr>\n",
       "      <th>4695</th>\n",
       "      <td>9509-MPYOD</td>\n",
       "      <td>2017-03-01</td>\n",
       "      <td>No</td>\n",
       "      <td>One year</td>\n",
       "      <td>No</td>\n",
       "      <td>Mailed check</td>\n",
       "      <td>20.75</td>\n",
       "      <td>700.45</td>\n",
       "    </tr>\n",
       "    <tr>\n",
       "      <th>317</th>\n",
       "      <td>2321-OMBXY</td>\n",
       "      <td>2016-08-01</td>\n",
       "      <td>2019-10-01 00:00:00</td>\n",
       "      <td>One year</td>\n",
       "      <td>No</td>\n",
       "      <td>Credit card (automatic)</td>\n",
       "      <td>80.30</td>\n",
       "      <td>3058.65</td>\n",
       "    </tr>\n",
       "    <tr>\n",
       "      <th>720</th>\n",
       "      <td>4697-LUPSU</td>\n",
       "      <td>2019-12-01</td>\n",
       "      <td>No</td>\n",
       "      <td>One year</td>\n",
       "      <td>No</td>\n",
       "      <td>Mailed check</td>\n",
       "      <td>20.20</td>\n",
       "      <td>34.75</td>\n",
       "    </tr>\n",
       "    <tr>\n",
       "      <th>731</th>\n",
       "      <td>6621-YOBKI</td>\n",
       "      <td>2019-09-01</td>\n",
       "      <td>No</td>\n",
       "      <td>Month-to-month</td>\n",
       "      <td>No</td>\n",
       "      <td>Mailed check</td>\n",
       "      <td>20.35</td>\n",
       "      <td>92.75</td>\n",
       "    </tr>\n",
       "  </tbody>\n",
       "</table>\n",
       "</div>"
      ],
      "text/plain": [
       "      customerID  BeginDate        EndDate              Type      PaperlessBilling      PaymentMethod        MonthlyCharges TotalCharges\n",
       "401   9442-JTWDL  2019-03-01                   No        One year         No        Credit card (automatic)       20.05          237.7  \n",
       "1146  1430-SFQSA  2017-09-01                   No        One year         No                   Mailed check       35.60         1072.6  \n",
       "5152  8807-OPMBM  2015-07-01                   No        Two year        Yes        Credit card (automatic)       25.65           1388  \n",
       "2544  7285-KLOTR  2019-02-01                   No        One year         No               Electronic check       78.85         876.75  \n",
       "3511  3785-KTYSH  2015-09-01                   No        Two year         No                   Mailed check       24.60           1279  \n",
       "4180  5482-PLVPE  2019-11-01  2020-01-01 00:00:00  Month-to-month         No               Electronic check       24.35          41.85  \n",
       "4695  9509-MPYOD  2017-03-01                   No        One year         No                   Mailed check       20.75         700.45  \n",
       "317   2321-OMBXY  2016-08-01  2019-10-01 00:00:00        One year         No        Credit card (automatic)       80.30        3058.65  \n",
       "720   4697-LUPSU  2019-12-01                   No        One year         No                   Mailed check       20.20          34.75  \n",
       "731   6621-YOBKI  2019-09-01                   No  Month-to-month         No                   Mailed check       20.35          92.75  "
      ]
     },
     "metadata": {},
     "output_type": "display_data"
    },
    {
     "name": "stdout",
     "output_type": "stream",
     "text": [
      "None\n"
     ]
    }
   ],
   "source": [
    "data_check(df_contract)"
   ]
  },
  {
   "cell_type": "code",
   "execution_count": 5,
   "id": "d69f5822",
   "metadata": {
    "scrolled": false
   },
   "outputs": [
    {
     "data": {
      "text/plain": [
       "array(['Month-to-month', 'One year', 'Two year'], dtype=object)"
      ]
     },
     "metadata": {},
     "output_type": "display_data"
    },
    {
     "data": {
      "text/plain": [
       "array(['Yes', 'No'], dtype=object)"
      ]
     },
     "metadata": {},
     "output_type": "display_data"
    },
    {
     "data": {
      "text/plain": [
       "array(['Electronic check', 'Mailed check', 'Bank transfer (automatic)',\n",
       "       'Credit card (automatic)'], dtype=object)"
      ]
     },
     "metadata": {},
     "output_type": "display_data"
    }
   ],
   "source": [
    "display(df_contract.Type.unique())\n",
    "display(df_contract.PaperlessBilling.unique())\n",
    "display(df_contract.PaymentMethod.unique())"
   ]
  },
  {
   "cell_type": "markdown",
   "id": "40ea16a2",
   "metadata": {},
   "source": [
    "Data is clean, we will have to use OHE for the Type and Payment method Columns. "
   ]
  },
  {
   "cell_type": "markdown",
   "id": "dd08b49f",
   "metadata": {},
   "source": [
    "#### Internet"
   ]
  },
  {
   "cell_type": "code",
   "execution_count": 6,
   "id": "d814f672",
   "metadata": {
    "scrolled": true
   },
   "outputs": [
    {
     "name": "stdout",
     "output_type": "stream",
     "text": [
      "\u001b[94mdataframe shape:\u001b[90m\n",
      "(5517, 8)\n",
      "\n",
      "\u001b[94mdf column names:\u001b[90m\n",
      "['customerID', 'InternetService', 'OnlineSecurity', 'OnlineBackup', 'DeviceProtection', 'TechSupport', 'StreamingTV', 'StreamingMovies']\n",
      "\n",
      "\u001b[94mdf info:\u001b[90m\n",
      "<class 'pandas.core.frame.DataFrame'>\n",
      "RangeIndex: 5517 entries, 0 to 5516\n",
      "Data columns (total 8 columns):\n",
      " #   Column            Non-Null Count  Dtype \n",
      "---  ------            --------------  ----- \n",
      " 0   customerID        5517 non-null   object\n",
      " 1   InternetService   5517 non-null   object\n",
      " 2   OnlineSecurity    5517 non-null   object\n",
      " 3   OnlineBackup      5517 non-null   object\n",
      " 4   DeviceProtection  5517 non-null   object\n",
      " 5   TechSupport       5517 non-null   object\n",
      " 6   StreamingTV       5517 non-null   object\n",
      " 7   StreamingMovies   5517 non-null   object\n",
      "dtypes: object(8)\n",
      "memory usage: 344.9+ KB\n",
      "None\n",
      "\n",
      "\u001b[94mPercentage of missing values:\u001b[90m\n",
      "\n",
      "\u001b[94mNumber of duplicates:\u001b[90m\n",
      "0\n",
      "\n",
      "\u001b[94mprint a few columns:\u001b[90m\n"
     ]
    },
    {
     "data": {
      "text/html": [
       "<div>\n",
       "<style scoped>\n",
       "    .dataframe tbody tr th:only-of-type {\n",
       "        vertical-align: middle;\n",
       "    }\n",
       "\n",
       "    .dataframe tbody tr th {\n",
       "        vertical-align: top;\n",
       "    }\n",
       "\n",
       "    .dataframe thead th {\n",
       "        text-align: right;\n",
       "    }\n",
       "</style>\n",
       "<table border=\"1\" class=\"dataframe\">\n",
       "  <thead>\n",
       "    <tr style=\"text-align: center;\">\n",
       "      <th></th>\n",
       "      <th>customerID</th>\n",
       "      <th>InternetService</th>\n",
       "      <th>OnlineSecurity</th>\n",
       "      <th>OnlineBackup</th>\n",
       "      <th>DeviceProtection</th>\n",
       "      <th>TechSupport</th>\n",
       "      <th>StreamingTV</th>\n",
       "      <th>StreamingMovies</th>\n",
       "    </tr>\n",
       "  </thead>\n",
       "  <tbody>\n",
       "    <tr>\n",
       "      <th>482</th>\n",
       "      <td>8208-EUMTE</td>\n",
       "      <td>DSL</td>\n",
       "      <td>Yes</td>\n",
       "      <td>Yes</td>\n",
       "      <td>Yes</td>\n",
       "      <td>Yes</td>\n",
       "      <td>Yes</td>\n",
       "      <td>No</td>\n",
       "    </tr>\n",
       "    <tr>\n",
       "      <th>3256</th>\n",
       "      <td>6917-YACBP</td>\n",
       "      <td>Fiber optic</td>\n",
       "      <td>Yes</td>\n",
       "      <td>Yes</td>\n",
       "      <td>Yes</td>\n",
       "      <td>No</td>\n",
       "      <td>No</td>\n",
       "      <td>No</td>\n",
       "    </tr>\n",
       "    <tr>\n",
       "      <th>2522</th>\n",
       "      <td>9938-EKRGF</td>\n",
       "      <td>DSL</td>\n",
       "      <td>Yes</td>\n",
       "      <td>Yes</td>\n",
       "      <td>Yes</td>\n",
       "      <td>Yes</td>\n",
       "      <td>Yes</td>\n",
       "      <td>Yes</td>\n",
       "    </tr>\n",
       "    <tr>\n",
       "      <th>322</th>\n",
       "      <td>3951-NJCVI</td>\n",
       "      <td>Fiber optic</td>\n",
       "      <td>No</td>\n",
       "      <td>No</td>\n",
       "      <td>No</td>\n",
       "      <td>No</td>\n",
       "      <td>Yes</td>\n",
       "      <td>Yes</td>\n",
       "    </tr>\n",
       "    <tr>\n",
       "      <th>2740</th>\n",
       "      <td>6738-ISCBM</td>\n",
       "      <td>DSL</td>\n",
       "      <td>Yes</td>\n",
       "      <td>No</td>\n",
       "      <td>Yes</td>\n",
       "      <td>No</td>\n",
       "      <td>Yes</td>\n",
       "      <td>Yes</td>\n",
       "    </tr>\n",
       "    <tr>\n",
       "      <th>5261</th>\n",
       "      <td>4011-ARPHK</td>\n",
       "      <td>DSL</td>\n",
       "      <td>Yes</td>\n",
       "      <td>No</td>\n",
       "      <td>No</td>\n",
       "      <td>No</td>\n",
       "      <td>No</td>\n",
       "      <td>No</td>\n",
       "    </tr>\n",
       "    <tr>\n",
       "      <th>4195</th>\n",
       "      <td>5143-EGQFK</td>\n",
       "      <td>DSL</td>\n",
       "      <td>No</td>\n",
       "      <td>No</td>\n",
       "      <td>No</td>\n",
       "      <td>Yes</td>\n",
       "      <td>No</td>\n",
       "      <td>No</td>\n",
       "    </tr>\n",
       "    <tr>\n",
       "      <th>4608</th>\n",
       "      <td>1628-BIZYP</td>\n",
       "      <td>Fiber optic</td>\n",
       "      <td>No</td>\n",
       "      <td>Yes</td>\n",
       "      <td>No</td>\n",
       "      <td>No</td>\n",
       "      <td>No</td>\n",
       "      <td>Yes</td>\n",
       "    </tr>\n",
       "    <tr>\n",
       "      <th>4140</th>\n",
       "      <td>2144-BFDSO</td>\n",
       "      <td>Fiber optic</td>\n",
       "      <td>Yes</td>\n",
       "      <td>Yes</td>\n",
       "      <td>Yes</td>\n",
       "      <td>No</td>\n",
       "      <td>Yes</td>\n",
       "      <td>Yes</td>\n",
       "    </tr>\n",
       "    <tr>\n",
       "      <th>3510</th>\n",
       "      <td>0225-ZORZP</td>\n",
       "      <td>Fiber optic</td>\n",
       "      <td>No</td>\n",
       "      <td>Yes</td>\n",
       "      <td>No</td>\n",
       "      <td>No</td>\n",
       "      <td>No</td>\n",
       "      <td>Yes</td>\n",
       "    </tr>\n",
       "  </tbody>\n",
       "</table>\n",
       "</div>"
      ],
      "text/plain": [
       "      customerID InternetService OnlineSecurity OnlineBackup DeviceProtection TechSupport StreamingTV StreamingMovies\n",
       "482   8208-EUMTE            DSL        Yes           Yes            Yes            Yes         Yes            No     \n",
       "3256  6917-YACBP    Fiber optic        Yes           Yes            Yes             No          No            No     \n",
       "2522  9938-EKRGF            DSL        Yes           Yes            Yes            Yes         Yes           Yes     \n",
       "322   3951-NJCVI    Fiber optic         No            No             No             No         Yes           Yes     \n",
       "2740  6738-ISCBM            DSL        Yes            No            Yes             No         Yes           Yes     \n",
       "5261  4011-ARPHK            DSL        Yes            No             No             No          No            No     \n",
       "4195  5143-EGQFK            DSL         No            No             No            Yes          No            No     \n",
       "4608  1628-BIZYP    Fiber optic         No           Yes             No             No          No           Yes     \n",
       "4140  2144-BFDSO    Fiber optic        Yes           Yes            Yes             No         Yes           Yes     \n",
       "3510  0225-ZORZP    Fiber optic         No           Yes             No             No          No           Yes     "
      ]
     },
     "metadata": {},
     "output_type": "display_data"
    },
    {
     "name": "stdout",
     "output_type": "stream",
     "text": [
      "None\n"
     ]
    }
   ],
   "source": [
    "data_check(df_internet)"
   ]
  },
  {
   "cell_type": "code",
   "execution_count": 7,
   "id": "20b426c2",
   "metadata": {
    "scrolled": true
   },
   "outputs": [
    {
     "data": {
      "text/plain": [
       "array(['DSL', 'Fiber optic'], dtype=object)"
      ]
     },
     "metadata": {},
     "output_type": "display_data"
    },
    {
     "data": {
      "text/plain": [
       "array(['Yes', 'No'], dtype=object)"
      ]
     },
     "metadata": {},
     "output_type": "display_data"
    },
    {
     "data": {
      "text/plain": [
       "array(['No', 'Yes'], dtype=object)"
      ]
     },
     "metadata": {},
     "output_type": "display_data"
    },
    {
     "data": {
      "text/plain": [
       "array(['No', 'Yes'], dtype=object)"
      ]
     },
     "metadata": {},
     "output_type": "display_data"
    },
    {
     "data": {
      "text/plain": [
       "array(['No', 'Yes'], dtype=object)"
      ]
     },
     "metadata": {},
     "output_type": "display_data"
    },
    {
     "data": {
      "text/plain": [
       "array(['No', 'Yes'], dtype=object)"
      ]
     },
     "metadata": {},
     "output_type": "display_data"
    }
   ],
   "source": [
    "display(df_internet.InternetService.unique())\n",
    "display(df_internet.OnlineBackup.unique())\n",
    "display(df_internet.DeviceProtection.unique())\n",
    "display(df_internet.TechSupport.unique())\n",
    "display(df_internet.StreamingTV.unique())\n",
    "display(df_internet.StreamingMovies.unique())"
   ]
  },
  {
   "cell_type": "markdown",
   "id": "f95aab27",
   "metadata": {},
   "source": [
    "The Data is very clean, we just need to convert all values to Binary, and since all columns have only 2 values this is very easy to do. "
   ]
  },
  {
   "cell_type": "markdown",
   "id": "18242718",
   "metadata": {},
   "source": [
    "#### Personal"
   ]
  },
  {
   "cell_type": "code",
   "execution_count": 8,
   "id": "02f3defa",
   "metadata": {},
   "outputs": [
    {
     "name": "stdout",
     "output_type": "stream",
     "text": [
      "\u001b[94mdataframe shape:\u001b[90m\n",
      "(7043, 5)\n",
      "\n",
      "\u001b[94mdf column names:\u001b[90m\n",
      "['customerID', 'gender', 'SeniorCitizen', 'Partner', 'Dependents']\n",
      "\n",
      "\u001b[94mdf info:\u001b[90m\n",
      "<class 'pandas.core.frame.DataFrame'>\n",
      "RangeIndex: 7043 entries, 0 to 7042\n",
      "Data columns (total 5 columns):\n",
      " #   Column         Non-Null Count  Dtype \n",
      "---  ------         --------------  ----- \n",
      " 0   customerID     7043 non-null   object\n",
      " 1   gender         7043 non-null   object\n",
      " 2   SeniorCitizen  7043 non-null   int64 \n",
      " 3   Partner        7043 non-null   object\n",
      " 4   Dependents     7043 non-null   object\n",
      "dtypes: int64(1), object(4)\n",
      "memory usage: 275.2+ KB\n",
      "None\n",
      "\n",
      "\u001b[94mPercentage of missing values:\u001b[90m\n",
      "\n",
      "\u001b[94mNumber of duplicates:\u001b[90m\n",
      "0\n",
      "\n",
      "\u001b[94mprint a few columns:\u001b[90m\n"
     ]
    },
    {
     "data": {
      "text/html": [
       "<div>\n",
       "<style scoped>\n",
       "    .dataframe tbody tr th:only-of-type {\n",
       "        vertical-align: middle;\n",
       "    }\n",
       "\n",
       "    .dataframe tbody tr th {\n",
       "        vertical-align: top;\n",
       "    }\n",
       "\n",
       "    .dataframe thead th {\n",
       "        text-align: right;\n",
       "    }\n",
       "</style>\n",
       "<table border=\"1\" class=\"dataframe\">\n",
       "  <thead>\n",
       "    <tr style=\"text-align: center;\">\n",
       "      <th></th>\n",
       "      <th>customerID</th>\n",
       "      <th>gender</th>\n",
       "      <th>SeniorCitizen</th>\n",
       "      <th>Partner</th>\n",
       "      <th>Dependents</th>\n",
       "    </tr>\n",
       "  </thead>\n",
       "  <tbody>\n",
       "    <tr>\n",
       "      <th>431</th>\n",
       "      <td>7781-HVGMK</td>\n",
       "      <td>Female</td>\n",
       "      <td>0</td>\n",
       "      <td>Yes</td>\n",
       "      <td>Yes</td>\n",
       "    </tr>\n",
       "    <tr>\n",
       "      <th>4796</th>\n",
       "      <td>3807-BPOMJ</td>\n",
       "      <td>Female</td>\n",
       "      <td>0</td>\n",
       "      <td>Yes</td>\n",
       "      <td>No</td>\n",
       "    </tr>\n",
       "    <tr>\n",
       "      <th>89</th>\n",
       "      <td>3016-KSVCP</td>\n",
       "      <td>Male</td>\n",
       "      <td>0</td>\n",
       "      <td>Yes</td>\n",
       "      <td>No</td>\n",
       "    </tr>\n",
       "    <tr>\n",
       "      <th>2429</th>\n",
       "      <td>8406-LNMHF</td>\n",
       "      <td>Male</td>\n",
       "      <td>1</td>\n",
       "      <td>Yes</td>\n",
       "      <td>No</td>\n",
       "    </tr>\n",
       "    <tr>\n",
       "      <th>3</th>\n",
       "      <td>7795-CFOCW</td>\n",
       "      <td>Male</td>\n",
       "      <td>0</td>\n",
       "      <td>No</td>\n",
       "      <td>No</td>\n",
       "    </tr>\n",
       "    <tr>\n",
       "      <th>321</th>\n",
       "      <td>9880-TDQAC</td>\n",
       "      <td>Female</td>\n",
       "      <td>0</td>\n",
       "      <td>Yes</td>\n",
       "      <td>Yes</td>\n",
       "    </tr>\n",
       "    <tr>\n",
       "      <th>4178</th>\n",
       "      <td>1209-VFFOC</td>\n",
       "      <td>Male</td>\n",
       "      <td>0</td>\n",
       "      <td>Yes</td>\n",
       "      <td>Yes</td>\n",
       "    </tr>\n",
       "    <tr>\n",
       "      <th>4320</th>\n",
       "      <td>5324-KTGCG</td>\n",
       "      <td>Male</td>\n",
       "      <td>0</td>\n",
       "      <td>Yes</td>\n",
       "      <td>No</td>\n",
       "    </tr>\n",
       "    <tr>\n",
       "      <th>2709</th>\n",
       "      <td>6128-AQBMT</td>\n",
       "      <td>Male</td>\n",
       "      <td>1</td>\n",
       "      <td>Yes</td>\n",
       "      <td>No</td>\n",
       "    </tr>\n",
       "    <tr>\n",
       "      <th>3482</th>\n",
       "      <td>2828-SLQPF</td>\n",
       "      <td>Male</td>\n",
       "      <td>0</td>\n",
       "      <td>No</td>\n",
       "      <td>No</td>\n",
       "    </tr>\n",
       "  </tbody>\n",
       "</table>\n",
       "</div>"
      ],
      "text/plain": [
       "      customerID  gender  SeniorCitizen Partner Dependents\n",
       "431   7781-HVGMK  Female        0          Yes      Yes   \n",
       "4796  3807-BPOMJ  Female        0          Yes       No   \n",
       "89    3016-KSVCP    Male        0          Yes       No   \n",
       "2429  8406-LNMHF    Male        1          Yes       No   \n",
       "3     7795-CFOCW    Male        0           No       No   \n",
       "321   9880-TDQAC  Female        0          Yes      Yes   \n",
       "4178  1209-VFFOC    Male        0          Yes      Yes   \n",
       "4320  5324-KTGCG    Male        0          Yes       No   \n",
       "2709  6128-AQBMT    Male        1          Yes       No   \n",
       "3482  2828-SLQPF    Male        0           No       No   "
      ]
     },
     "metadata": {},
     "output_type": "display_data"
    },
    {
     "name": "stdout",
     "output_type": "stream",
     "text": [
      "None\n"
     ]
    }
   ],
   "source": [
    "data_check(df_personal)"
   ]
  },
  {
   "cell_type": "code",
   "execution_count": 9,
   "id": "bf3a0641",
   "metadata": {
    "scrolled": true
   },
   "outputs": [
    {
     "data": {
      "text/plain": [
       "array(['Female', 'Male'], dtype=object)"
      ]
     },
     "metadata": {},
     "output_type": "display_data"
    },
    {
     "data": {
      "text/plain": [
       "array([0, 1], dtype=int64)"
      ]
     },
     "metadata": {},
     "output_type": "display_data"
    },
    {
     "data": {
      "text/plain": [
       "array(['Yes', 'No'], dtype=object)"
      ]
     },
     "metadata": {},
     "output_type": "display_data"
    },
    {
     "data": {
      "text/plain": [
       "array(['No', 'Yes'], dtype=object)"
      ]
     },
     "metadata": {},
     "output_type": "display_data"
    }
   ],
   "source": [
    "display(df_personal.gender.unique())\n",
    "display(df_personal.SeniorCitizen.unique())\n",
    "display(df_personal.Partner.unique())\n",
    "display(df_personal.Dependents.unique())"
   ]
  },
  {
   "cell_type": "markdown",
   "id": "64f58245",
   "metadata": {},
   "source": [
    "Data is very clean, it can be converted into Bindary for analyisis. "
   ]
  },
  {
   "cell_type": "markdown",
   "id": "0589ee4b",
   "metadata": {},
   "source": [
    "#### Phone"
   ]
  },
  {
   "cell_type": "code",
   "execution_count": 10,
   "id": "b4155581",
   "metadata": {
    "scrolled": true
   },
   "outputs": [
    {
     "name": "stdout",
     "output_type": "stream",
     "text": [
      "\u001b[94mdataframe shape:\u001b[90m\n",
      "(6361, 2)\n",
      "\n",
      "\u001b[94mdf column names:\u001b[90m\n",
      "['customerID', 'MultipleLines']\n",
      "\n",
      "\u001b[94mdf info:\u001b[90m\n",
      "<class 'pandas.core.frame.DataFrame'>\n",
      "RangeIndex: 6361 entries, 0 to 6360\n",
      "Data columns (total 2 columns):\n",
      " #   Column         Non-Null Count  Dtype \n",
      "---  ------         --------------  ----- \n",
      " 0   customerID     6361 non-null   object\n",
      " 1   MultipleLines  6361 non-null   object\n",
      "dtypes: object(2)\n",
      "memory usage: 99.5+ KB\n",
      "None\n",
      "\n",
      "\u001b[94mPercentage of missing values:\u001b[90m\n",
      "\n",
      "\u001b[94mNumber of duplicates:\u001b[90m\n",
      "0\n",
      "\n",
      "\u001b[94mprint a few columns:\u001b[90m\n"
     ]
    },
    {
     "data": {
      "text/html": [
       "<div>\n",
       "<style scoped>\n",
       "    .dataframe tbody tr th:only-of-type {\n",
       "        vertical-align: middle;\n",
       "    }\n",
       "\n",
       "    .dataframe tbody tr th {\n",
       "        vertical-align: top;\n",
       "    }\n",
       "\n",
       "    .dataframe thead th {\n",
       "        text-align: right;\n",
       "    }\n",
       "</style>\n",
       "<table border=\"1\" class=\"dataframe\">\n",
       "  <thead>\n",
       "    <tr style=\"text-align: center;\">\n",
       "      <th></th>\n",
       "      <th>customerID</th>\n",
       "      <th>MultipleLines</th>\n",
       "    </tr>\n",
       "  </thead>\n",
       "  <tbody>\n",
       "    <tr>\n",
       "      <th>2763</th>\n",
       "      <td>7120-RFMVS</td>\n",
       "      <td>Yes</td>\n",
       "    </tr>\n",
       "    <tr>\n",
       "      <th>3161</th>\n",
       "      <td>3756-VNWDH</td>\n",
       "      <td>Yes</td>\n",
       "    </tr>\n",
       "    <tr>\n",
       "      <th>2838</th>\n",
       "      <td>3148-AOIQT</td>\n",
       "      <td>Yes</td>\n",
       "    </tr>\n",
       "    <tr>\n",
       "      <th>193</th>\n",
       "      <td>2040-LDIWQ</td>\n",
       "      <td>Yes</td>\n",
       "    </tr>\n",
       "    <tr>\n",
       "      <th>2264</th>\n",
       "      <td>6614-YWYSC</td>\n",
       "      <td>Yes</td>\n",
       "    </tr>\n",
       "    <tr>\n",
       "      <th>3601</th>\n",
       "      <td>2019-HDCZY</td>\n",
       "      <td>Yes</td>\n",
       "    </tr>\n",
       "    <tr>\n",
       "      <th>2978</th>\n",
       "      <td>6504-VBLFL</td>\n",
       "      <td>No</td>\n",
       "    </tr>\n",
       "    <tr>\n",
       "      <th>3339</th>\n",
       "      <td>9378-FXTIZ</td>\n",
       "      <td>Yes</td>\n",
       "    </tr>\n",
       "    <tr>\n",
       "      <th>598</th>\n",
       "      <td>8095-WANWK</td>\n",
       "      <td>No</td>\n",
       "    </tr>\n",
       "    <tr>\n",
       "      <th>4637</th>\n",
       "      <td>6686-YPGHK</td>\n",
       "      <td>No</td>\n",
       "    </tr>\n",
       "  </tbody>\n",
       "</table>\n",
       "</div>"
      ],
      "text/plain": [
       "      customerID MultipleLines\n",
       "2763  7120-RFMVS       Yes    \n",
       "3161  3756-VNWDH       Yes    \n",
       "2838  3148-AOIQT       Yes    \n",
       "193   2040-LDIWQ       Yes    \n",
       "2264  6614-YWYSC       Yes    \n",
       "3601  2019-HDCZY       Yes    \n",
       "2978  6504-VBLFL        No    \n",
       "3339  9378-FXTIZ       Yes    \n",
       "598   8095-WANWK        No    \n",
       "4637  6686-YPGHK        No    "
      ]
     },
     "metadata": {},
     "output_type": "display_data"
    },
    {
     "name": "stdout",
     "output_type": "stream",
     "text": [
      "None\n"
     ]
    }
   ],
   "source": [
    "data_check(df_phone)"
   ]
  },
  {
   "cell_type": "code",
   "execution_count": 11,
   "id": "67688410",
   "metadata": {
    "scrolled": true
   },
   "outputs": [
    {
     "data": {
      "text/plain": [
       "array(['No', 'Yes'], dtype=object)"
      ]
     },
     "metadata": {},
     "output_type": "display_data"
    }
   ],
   "source": [
    "display(df_phone.MultipleLines.unique())"
   ]
  },
  {
   "cell_type": "markdown",
   "id": "d4ff4147",
   "metadata": {},
   "source": [
    "Data is clean, we will convert the data column to Binary."
   ]
  },
  {
   "cell_type": "markdown",
   "id": "de79b1a7",
   "metadata": {},
   "source": [
    "### Conclusions From Data Check"
   ]
  },
  {
   "cell_type": "markdown",
   "id": "b9e754a4",
   "metadata": {},
   "source": [
    "Based on the initial data check we can Change the different data types to Numerical Values, most will be converted to binary, but others will use different encoding methods. \n",
    "\n",
    "We need to do this before we make our final plan as we will want that to check for imbalance with some plots. "
   ]
  },
  {
   "cell_type": "markdown",
   "id": "4c76f21d",
   "metadata": {},
   "source": [
    "## Preparing Data"
   ]
  },
  {
   "cell_type": "markdown",
   "id": "18343d29",
   "metadata": {},
   "source": [
    "### Converting Data"
   ]
  },
  {
   "cell_type": "markdown",
   "id": "5193e757",
   "metadata": {},
   "source": [
    "#### Contract"
   ]
  },
  {
   "cell_type": "code",
   "execution_count": 12,
   "id": "9923821e",
   "metadata": {},
   "outputs": [
    {
     "data": {
      "text/plain": [
       "array([1, 0], dtype=int64)"
      ]
     },
     "metadata": {},
     "output_type": "display_data"
    }
   ],
   "source": [
    "df_contract.PaperlessBilling.replace(('Yes', 'No'), (1, 0), inplace=True)\n",
    "display(df_contract.PaperlessBilling.unique())"
   ]
  },
  {
   "cell_type": "code",
   "execution_count": 13,
   "id": "9176dc13",
   "metadata": {},
   "outputs": [
    {
     "data": {
      "text/plain": [
       "array([  0, 365, 730], dtype=int64)"
      ]
     },
     "metadata": {},
     "output_type": "display_data"
    }
   ],
   "source": [
    "df_contract.Type.replace(('Month-to-month', 'One year', 'Two year'), (0, 365, 730), inplace=True)\n",
    "display(df_contract.Type.unique())"
   ]
  },
  {
   "cell_type": "code",
   "execution_count": 14,
   "id": "f327c73e",
   "metadata": {},
   "outputs": [
    {
     "data": {
      "text/plain": [
       "array([1, 2, 3, 4], dtype=int64)"
      ]
     },
     "metadata": {},
     "output_type": "display_data"
    }
   ],
   "source": [
    "df_contract.PaymentMethod.replace(('Electronic check', 'Mailed check', 'Bank transfer (automatic)',\n",
    "       'Credit card (automatic)'), (1, 2, 3, 4), inplace=True)\n",
    "display(df_contract.PaymentMethod.unique())"
   ]
  },
  {
   "cell_type": "markdown",
   "id": "4d9feb27",
   "metadata": {},
   "source": [
    "#### Internet"
   ]
  },
  {
   "cell_type": "code",
   "execution_count": 15,
   "id": "13673267",
   "metadata": {},
   "outputs": [
    {
     "data": {
      "text/plain": [
       "array([1, 2], dtype=int64)"
      ]
     },
     "metadata": {},
     "output_type": "display_data"
    }
   ],
   "source": [
    "df_internet.InternetService.replace(('DSL', 'Fiber optic'), (1, 2), inplace=True)\n",
    "display(df_internet.InternetService.unique())"
   ]
  },
  {
   "cell_type": "code",
   "execution_count": 16,
   "id": "58cac1d3",
   "metadata": {},
   "outputs": [
    {
     "data": {
      "text/plain": [
       "array([1, 2], dtype=int64)"
      ]
     },
     "metadata": {},
     "output_type": "display_data"
    }
   ],
   "source": [
    "df_internet.OnlineBackup.replace(('No', 'Yes'), (0, 1), inplace=True)\n",
    "display(df_internet.InternetService.unique())"
   ]
  },
  {
   "cell_type": "code",
   "execution_count": 17,
   "id": "61d51773",
   "metadata": {
    "scrolled": true
   },
   "outputs": [
    {
     "data": {
      "text/plain": [
       "array([1, 2], dtype=int64)"
      ]
     },
     "metadata": {},
     "output_type": "display_data"
    }
   ],
   "source": [
    "df_internet.DeviceProtection.replace(('No', 'Yes'), (0, 1), inplace=True)\n",
    "display(df_internet.InternetService.unique())"
   ]
  },
  {
   "cell_type": "code",
   "execution_count": 18,
   "id": "7f739388",
   "metadata": {},
   "outputs": [
    {
     "data": {
      "text/plain": [
       "array([1, 2], dtype=int64)"
      ]
     },
     "metadata": {},
     "output_type": "display_data"
    }
   ],
   "source": [
    "df_internet.OnlineSecurity.replace(('No', 'Yes'), (0, 1), inplace=True)\n",
    "display(df_internet.InternetService.unique())"
   ]
  },
  {
   "cell_type": "code",
   "execution_count": 19,
   "id": "0c795d87",
   "metadata": {},
   "outputs": [
    {
     "data": {
      "text/plain": [
       "array([1, 2], dtype=int64)"
      ]
     },
     "metadata": {},
     "output_type": "display_data"
    }
   ],
   "source": [
    "df_internet.TechSupport.replace(('No', 'Yes'), (0, 1), inplace=True)\n",
    "display(df_internet.InternetService.unique())"
   ]
  },
  {
   "cell_type": "code",
   "execution_count": 20,
   "id": "12e0390c",
   "metadata": {},
   "outputs": [
    {
     "data": {
      "text/plain": [
       "array([1, 2], dtype=int64)"
      ]
     },
     "metadata": {},
     "output_type": "display_data"
    }
   ],
   "source": [
    "df_internet.StreamingTV.replace(('No', 'Yes'), (0, 1), inplace=True)\n",
    "display(df_internet.InternetService.unique())"
   ]
  },
  {
   "cell_type": "code",
   "execution_count": 21,
   "id": "c72f7550",
   "metadata": {},
   "outputs": [
    {
     "data": {
      "text/plain": [
       "array([1, 2], dtype=int64)"
      ]
     },
     "metadata": {},
     "output_type": "display_data"
    }
   ],
   "source": [
    "df_internet.StreamingMovies.replace(('No', 'Yes'), (0, 1), inplace=True)\n",
    "display(df_internet.InternetService.unique())"
   ]
  },
  {
   "cell_type": "markdown",
   "id": "67aa6d44",
   "metadata": {},
   "source": [
    "#### Personal"
   ]
  },
  {
   "cell_type": "code",
   "execution_count": 22,
   "id": "fc7698c4",
   "metadata": {},
   "outputs": [
    {
     "data": {
      "text/plain": [
       "array([0, 1], dtype=int64)"
      ]
     },
     "metadata": {},
     "output_type": "display_data"
    }
   ],
   "source": [
    "df_personal.gender.replace(('Female', 'Male'), (0, 1), inplace=True)\n",
    "display(df_personal.gender.unique())"
   ]
  },
  {
   "cell_type": "code",
   "execution_count": 23,
   "id": "f6398f46",
   "metadata": {},
   "outputs": [
    {
     "data": {
      "text/plain": [
       "array([1, 0], dtype=int64)"
      ]
     },
     "metadata": {},
     "output_type": "display_data"
    }
   ],
   "source": [
    "df_personal.Partner.replace(('No', 'Yes'), (0, 1), inplace=True)\n",
    "display(df_personal.Partner.unique())"
   ]
  },
  {
   "cell_type": "code",
   "execution_count": 24,
   "id": "1d6fddd9",
   "metadata": {},
   "outputs": [
    {
     "data": {
      "text/plain": [
       "array([0, 1], dtype=int64)"
      ]
     },
     "metadata": {},
     "output_type": "display_data"
    }
   ],
   "source": [
    "df_personal.Dependents.replace(('No', 'Yes'), (0, 1), inplace=True)\n",
    "display(df_personal.Dependents.unique())"
   ]
  },
  {
   "cell_type": "markdown",
   "id": "abc26e99",
   "metadata": {},
   "source": [
    "#### Phone"
   ]
  },
  {
   "cell_type": "code",
   "execution_count": 25,
   "id": "d06ec9f4",
   "metadata": {},
   "outputs": [
    {
     "data": {
      "text/plain": [
       "array([1, 2], dtype=int64)"
      ]
     },
     "metadata": {},
     "output_type": "display_data"
    }
   ],
   "source": [
    "df_phone.MultipleLines.replace(('No', 'Yes'), (1, 2), inplace=True)\n",
    "display(df_phone.MultipleLines.unique())"
   ]
  },
  {
   "cell_type": "markdown",
   "id": "2425c167",
   "metadata": {},
   "source": [
    "## Data Analysis"
   ]
  },
  {
   "cell_type": "markdown",
   "id": "8a83a39a",
   "metadata": {},
   "source": [
    "#### Contract"
   ]
  },
  {
   "cell_type": "code",
   "execution_count": 26,
   "id": "6a6a1890",
   "metadata": {
    "scrolled": true
   },
   "outputs": [
    {
     "data": {
      "image/png": "[encoded data removed]",
      "text/plain": [
       "<Figure size 100x100 with 1 Axes>"
      ]
     },
     "metadata": {},
     "output_type": "display_data"
    },
    {
     "data": {
      "image/png": "[encoded data removed]",
      "text/plain": [
       "<Figure size 100x100 with 1 Axes>"
      ]
     },
     "metadata": {},
     "output_type": "display_data"
    },
    {
     "data": {
      "image/png": "[encoded data removed]",
      "text/plain": [
       "<Figure size 100x100 with 1 Axes>"
      ]
     },
     "metadata": {},
     "output_type": "display_data"
    },
    {
     "data": {
      "image/png": "[encoded data removed]",
      "text/plain": [
       "<Figure size 640x480 with 1 Axes>"
      ]
     },
     "metadata": {},
     "output_type": "display_data"
    }
   ],
   "source": [
    "df_contract.Type.plot(kind='hist', figsize=(1,1))\n",
    "plt.show()\n",
    "df_contract.PaperlessBilling.plot(kind='hist', figsize=(1,1))\n",
    "plt.show()\n",
    "df_contract.PaymentMethod.plot(kind='hist', figsize=(1,1))\n",
    "plt.show()\n",
    "df_contract.MonthlyCharges.plot(kind='hist', bins=30)\n",
    "plt.show()"
   ]
  },
  {
   "cell_type": "code",
   "execution_count": 27,
   "id": "46a24312",
   "metadata": {},
   "outputs": [
    {
     "data": {
      "text/plain": [
       "18.25"
      ]
     },
     "execution_count": 27,
     "metadata": {},
     "output_type": "execute_result"
    }
   ],
   "source": [
    "df_contract.MonthlyCharges.min()"
   ]
  },
  {
   "cell_type": "markdown",
   "id": "5ea16686",
   "metadata": {},
   "source": [
    "#### Internet"
   ]
  },
  {
   "cell_type": "code",
   "execution_count": 28,
   "id": "6dec33dc",
   "metadata": {},
   "outputs": [
    {
     "data": {
      "image/png": "[encoded data removed]",
      "text/plain": [
       "<Figure size 100x100 with 1 Axes>"
      ]
     },
     "metadata": {},
     "output_type": "display_data"
    },
    {
     "data": {
      "image/png": "[encoded data removed]",
      "text/plain": [
       "<Figure size 100x100 with 1 Axes>"
      ]
     },
     "metadata": {},
     "output_type": "display_data"
    },
    {
     "data": {
      "image/png": "[encoded data removed]",
      "text/plain": [
       "<Figure size 100x100 with 1 Axes>"
      ]
     },
     "metadata": {},
     "output_type": "display_data"
    },
    {
     "data": {
      "image/png": "[encoded data removed]",
      "text/plain": [
       "<Figure size 100x100 with 1 Axes>"
      ]
     },
     "metadata": {},
     "output_type": "display_data"
    },
    {
     "data": {
      "image/png": "[encoded data removed]",
      "text/plain": [
       "<Figure size 100x100 with 1 Axes>"
      ]
     },
     "metadata": {},
     "output_type": "display_data"
    },
    {
     "data": {
      "image/png": "[encoded data removed]",
      "text/plain": [
       "<Figure size 100x100 with 1 Axes>"
      ]
     },
     "metadata": {},
     "output_type": "display_data"
    }
   ],
   "source": [
    "df_internet.InternetService.plot(kind='hist', figsize=(1,1))\n",
    "plt.show()\n",
    "df_internet.OnlineBackup.plot(kind='hist', figsize=(1,1))\n",
    "plt.show()\n",
    "df_internet.DeviceProtection.plot(kind='hist', figsize=(1,1))\n",
    "plt.show()\n",
    "df_internet.TechSupport.plot(kind='hist', figsize=(1,1))\n",
    "plt.show()\n",
    "df_internet.StreamingTV.plot(kind='hist', figsize=(1,1))\n",
    "plt.show()\n",
    "df_internet.StreamingMovies.plot(kind='hist', figsize=(1,1))\n",
    "plt.show()"
   ]
  },
  {
   "cell_type": "markdown",
   "id": "67a846e8",
   "metadata": {},
   "source": [
    "#### Personal"
   ]
  },
  {
   "cell_type": "code",
   "execution_count": 29,
   "id": "12eb15fa",
   "metadata": {
    "scrolled": true
   },
   "outputs": [
    {
     "data": {
      "image/png": "[encoded data removed]",
      "text/plain": [
       "<Figure size 100x100 with 1 Axes>"
      ]
     },
     "metadata": {},
     "output_type": "display_data"
    },
    {
     "data": {
      "image/png": "[encoded data removed]",
      "text/plain": [
       "<Figure size 100x100 with 1 Axes>"
      ]
     },
     "metadata": {},
     "output_type": "display_data"
    },
    {
     "data": {
      "image/png": "[encoded data removed]",
      "text/plain": [
       "<Figure size 100x100 with 1 Axes>"
      ]
     },
     "metadata": {},
     "output_type": "display_data"
    },
    {
     "data": {
      "image/png": "[encoded data removed]",
      "text/plain": [
       "<Figure size 100x100 with 1 Axes>"
      ]
     },
     "metadata": {},
     "output_type": "display_data"
    }
   ],
   "source": [
    "df_personal.gender.plot(kind='hist', figsize=(1,1))\n",
    "plt.show()\n",
    "df_personal.SeniorCitizen.plot(kind='hist', figsize=(1,1))\n",
    "plt.show()\n",
    "df_personal.Partner.plot(kind='hist', figsize=(1,1))\n",
    "plt.show()\n",
    "df_personal.Dependents.plot(kind='hist', figsize=(1,1))\n",
    "plt.show()"
   ]
  },
  {
   "cell_type": "markdown",
   "id": "2418e14d",
   "metadata": {},
   "source": [
    "The significant class imbalance comes in the Senior Citizen column, we can experiment with fixing this to see if it improves model accuracy. "
   ]
  },
  {
   "cell_type": "markdown",
   "id": "81a113f8",
   "metadata": {},
   "source": [
    "#### Phone"
   ]
  },
  {
   "cell_type": "code",
   "execution_count": 30,
   "id": "20afbe3c",
   "metadata": {},
   "outputs": [
    {
     "data": {
      "text/plain": [
       "<AxesSubplot:ylabel='Frequency'>"
      ]
     },
     "execution_count": 30,
     "metadata": {},
     "output_type": "execute_result"
    },
    {
     "data": {
      "image/png": "[encoded data removed]",
      "text/plain": [
       "<Figure size 100x100 with 1 Axes>"
      ]
     },
     "metadata": {},
     "output_type": "display_data"
    }
   ],
   "source": [
    "df_phone.MultipleLines.plot(kind='hist', figsize=(1, 1))"
   ]
  },
  {
   "cell_type": "markdown",
   "id": "c79a3fe4",
   "metadata": {},
   "source": [
    "### Planning"
   ]
  },
  {
   "cell_type": "markdown",
   "id": "240f2e68",
   "metadata": {},
   "source": [
    "After having done a preliminary analysis of the data and converting data to numerical values we can see that the data is clean. "
   ]
  },
  {
   "cell_type": "markdown",
   "id": "50df0527",
   "metadata": {},
   "source": [
    "From here the first step is to merge the datasets together, this will be done based on the Customer's unique ID. \n",
    "\n",
    "We also need to create the Target column, which is going to be done using the End Date. We do this by converting all the values with no end date to 0, and those with an end date with 1. \n",
    "\n",
    "The data set will be split 60-20-20 between training, validation, and test sets. \n",
    "\n",
    "This becomes a classification task. We will use several classifiers, including SKlearn and LGBM in order to identify the best and most accurate model. \n",
    "\n",
    "Because of the dataset being used we should be able to brute force the tuning of the parameters using a GPU. GPU also tends to give a little more accuracy. "
   ]
  },
  {
   "cell_type": "markdown",
   "id": "44680dee",
   "metadata": {},
   "source": [
    "## Creating Models"
   ]
  },
  {
   "cell_type": "markdown",
   "id": "fd03fcf3",
   "metadata": {},
   "source": [
    "### Enriching Data"
   ]
  },
  {
   "cell_type": "markdown",
   "id": "96aa441b",
   "metadata": {},
   "source": [
    "#### Merging"
   ]
  },
  {
   "cell_type": "markdown",
   "id": "6a89f8ad",
   "metadata": {},
   "source": [
    "We need to merge all the data into one table. Since all customers have some form of contract we will use that as the table we merge into. "
   ]
  },
  {
   "cell_type": "code",
   "execution_count": 31,
   "id": "3c987ffd",
   "metadata": {
    "scrolled": true
   },
   "outputs": [],
   "source": [
    "df_merged = df_contract.merge(df_internet, how='outer', on='customerID').merge(df_personal, how='outer', on='customerID').merge(df_phone, how='outer', on='customerID')"
   ]
  },
  {
   "cell_type": "code",
   "execution_count": 32,
   "id": "ba7a2c51",
   "metadata": {},
   "outputs": [
    {
     "name": "stdout",
     "output_type": "stream",
     "text": [
      "\u001b[94mdataframe shape:\u001b[90m\n",
      "(7043, 20)\n",
      "\n",
      "\u001b[94mdf column names:\u001b[90m\n",
      "['customerID', 'BeginDate', 'EndDate', 'Type', 'PaperlessBilling', 'PaymentMethod', 'MonthlyCharges', 'TotalCharges', 'InternetService', 'OnlineSecurity', 'OnlineBackup', 'DeviceProtection', 'TechSupport', 'StreamingTV', 'StreamingMovies', 'gender', 'SeniorCitizen', 'Partner', 'Dependents', 'MultipleLines']\n",
      "\n",
      "\u001b[94mdf info:\u001b[90m\n",
      "<class 'pandas.core.frame.DataFrame'>\n",
      "Int64Index: 7043 entries, 0 to 7042\n",
      "Data columns (total 20 columns):\n",
      " #   Column            Non-Null Count  Dtype  \n",
      "---  ------            --------------  -----  \n",
      " 0   customerID        7043 non-null   object \n",
      " 1   BeginDate         7043 non-null   object \n",
      " 2   EndDate           7043 non-null   object \n",
      " 3   Type              7043 non-null   int64  \n",
      " 4   PaperlessBilling  7043 non-null   int64  \n",
      " 5   PaymentMethod     7043 non-null   int64  \n",
      " 6   MonthlyCharges    7043 non-null   float64\n",
      " 7   TotalCharges      7043 non-null   object \n",
      " 8   InternetService   5517 non-null   float64\n",
      " 9   OnlineSecurity    5517 non-null   float64\n",
      " 10  OnlineBackup      5517 non-null   float64\n",
      " 11  DeviceProtection  5517 non-null   float64\n",
      " 12  TechSupport       5517 non-null   float64\n",
      " 13  StreamingTV       5517 non-null   float64\n",
      " 14  StreamingMovies   5517 non-null   float64\n",
      " 15  gender            7043 non-null   int64  \n",
      " 16  SeniorCitizen     7043 non-null   int64  \n",
      " 17  Partner           7043 non-null   int64  \n",
      " 18  Dependents        7043 non-null   int64  \n",
      " 19  MultipleLines     6361 non-null   float64\n",
      "dtypes: float64(9), int64(7), object(4)\n",
      "memory usage: 1.1+ MB\n",
      "None\n",
      "\n",
      "\u001b[94mPercentage of missing values:\u001b[90m\n",
      "InternetService NaN%: 21.666903308249324\n",
      "OnlineSecurity NaN%: 21.666903308249324\n",
      "OnlineBackup NaN%: 21.666903308249324\n",
      "DeviceProtection NaN%: 21.666903308249324\n",
      "TechSupport NaN%: 21.666903308249324\n",
      "StreamingTV NaN%: 21.666903308249324\n",
      "StreamingMovies NaN%: 21.666903308249324\n",
      "MultipleLines NaN%: 9.683373562402386\n",
      "\n",
      "\u001b[94mNumber of duplicates:\u001b[90m\n",
      "0\n",
      "\n",
      "\u001b[94mprint a few columns:\u001b[90m\n"
     ]
    },
    {
     "data": {
      "text/html": [
       "<div>\n",
       "<style scoped>\n",
       "    .dataframe tbody tr th:only-of-type {\n",
       "        vertical-align: middle;\n",
       "    }\n",
       "\n",
       "    .dataframe tbody tr th {\n",
       "        vertical-align: top;\n",
       "    }\n",
       "\n",
       "    .dataframe thead th {\n",
       "        text-align: right;\n",
       "    }\n",
       "</style>\n",
       "<table border=\"1\" class=\"dataframe\">\n",
       "  <thead>\n",
       "    <tr style=\"text-align: center;\">\n",
       "      <th></th>\n",
       "      <th>customerID</th>\n",
       "      <th>BeginDate</th>\n",
       "      <th>EndDate</th>\n",
       "      <th>Type</th>\n",
       "      <th>PaperlessBilling</th>\n",
       "      <th>PaymentMethod</th>\n",
       "      <th>MonthlyCharges</th>\n",
       "      <th>TotalCharges</th>\n",
       "      <th>InternetService</th>\n",
       "      <th>OnlineSecurity</th>\n",
       "      <th>OnlineBackup</th>\n",
       "      <th>DeviceProtection</th>\n",
       "      <th>TechSupport</th>\n",
       "      <th>StreamingTV</th>\n",
       "      <th>StreamingMovies</th>\n",
       "      <th>gender</th>\n",
       "      <th>SeniorCitizen</th>\n",
       "      <th>Partner</th>\n",
       "      <th>Dependents</th>\n",
       "      <th>MultipleLines</th>\n",
       "    </tr>\n",
       "  </thead>\n",
       "  <tbody>\n",
       "    <tr>\n",
       "      <th>4153</th>\n",
       "      <td>5214-CHIWJ</td>\n",
       "      <td>2017-11-01</td>\n",
       "      <td>No</td>\n",
       "      <td>365</td>\n",
       "      <td>0</td>\n",
       "      <td>2</td>\n",
       "      <td>20.30</td>\n",
       "      <td>595.05</td>\n",
       "      <td>NaN</td>\n",
       "      <td>NaN</td>\n",
       "      <td>NaN</td>\n",
       "      <td>NaN</td>\n",
       "      <td>NaN</td>\n",
       "      <td>NaN</td>\n",
       "      <td>NaN</td>\n",
       "      <td>1</td>\n",
       "      <td>0</td>\n",
       "      <td>0</td>\n",
       "      <td>0</td>\n",
       "      <td>1.0</td>\n",
       "    </tr>\n",
       "    <tr>\n",
       "      <th>7021</th>\n",
       "      <td>1699-HPSBG</td>\n",
       "      <td>2018-11-01</td>\n",
       "      <td>2019-11-01 00:00:00</td>\n",
       "      <td>365</td>\n",
       "      <td>1</td>\n",
       "      <td>1</td>\n",
       "      <td>59.80</td>\n",
       "      <td>727.8</td>\n",
       "      <td>1.0</td>\n",
       "      <td>0.0</td>\n",
       "      <td>0.0</td>\n",
       "      <td>0.0</td>\n",
       "      <td>1.0</td>\n",
       "      <td>1.0</td>\n",
       "      <td>0.0</td>\n",
       "      <td>1</td>\n",
       "      <td>0</td>\n",
       "      <td>0</td>\n",
       "      <td>0</td>\n",
       "      <td>1.0</td>\n",
       "    </tr>\n",
       "    <tr>\n",
       "      <th>4374</th>\n",
       "      <td>2718-YSKCS</td>\n",
       "      <td>2014-03-01</td>\n",
       "      <td>No</td>\n",
       "      <td>730</td>\n",
       "      <td>1</td>\n",
       "      <td>3</td>\n",
       "      <td>19.60</td>\n",
       "      <td>1387.45</td>\n",
       "      <td>NaN</td>\n",
       "      <td>NaN</td>\n",
       "      <td>NaN</td>\n",
       "      <td>NaN</td>\n",
       "      <td>NaN</td>\n",
       "      <td>NaN</td>\n",
       "      <td>NaN</td>\n",
       "      <td>1</td>\n",
       "      <td>0</td>\n",
       "      <td>1</td>\n",
       "      <td>1</td>\n",
       "      <td>1.0</td>\n",
       "    </tr>\n",
       "    <tr>\n",
       "      <th>3435</th>\n",
       "      <td>4450-DLLMH</td>\n",
       "      <td>2019-12-01</td>\n",
       "      <td>No</td>\n",
       "      <td>0</td>\n",
       "      <td>1</td>\n",
       "      <td>4</td>\n",
       "      <td>71.30</td>\n",
       "      <td>157.75</td>\n",
       "      <td>2.0</td>\n",
       "      <td>0.0</td>\n",
       "      <td>0.0</td>\n",
       "      <td>0.0</td>\n",
       "      <td>0.0</td>\n",
       "      <td>0.0</td>\n",
       "      <td>0.0</td>\n",
       "      <td>1</td>\n",
       "      <td>0</td>\n",
       "      <td>0</td>\n",
       "      <td>0</td>\n",
       "      <td>1.0</td>\n",
       "    </tr>\n",
       "    <tr>\n",
       "      <th>2783</th>\n",
       "      <td>4760-THGOT</td>\n",
       "      <td>2016-07-01</td>\n",
       "      <td>No</td>\n",
       "      <td>0</td>\n",
       "      <td>1</td>\n",
       "      <td>1</td>\n",
       "      <td>94.10</td>\n",
       "      <td>4107.3</td>\n",
       "      <td>2.0</td>\n",
       "      <td>1.0</td>\n",
       "      <td>1.0</td>\n",
       "      <td>0.0</td>\n",
       "      <td>0.0</td>\n",
       "      <td>0.0</td>\n",
       "      <td>1.0</td>\n",
       "      <td>0</td>\n",
       "      <td>0</td>\n",
       "      <td>1</td>\n",
       "      <td>0</td>\n",
       "      <td>2.0</td>\n",
       "    </tr>\n",
       "    <tr>\n",
       "      <th>316</th>\n",
       "      <td>3973-SKMLN</td>\n",
       "      <td>2014-03-01</td>\n",
       "      <td>No</td>\n",
       "      <td>730</td>\n",
       "      <td>1</td>\n",
       "      <td>4</td>\n",
       "      <td>19.90</td>\n",
       "      <td>1355.1</td>\n",
       "      <td>NaN</td>\n",
       "      <td>NaN</td>\n",
       "      <td>NaN</td>\n",
       "      <td>NaN</td>\n",
       "      <td>NaN</td>\n",
       "      <td>NaN</td>\n",
       "      <td>NaN</td>\n",
       "      <td>1</td>\n",
       "      <td>0</td>\n",
       "      <td>0</td>\n",
       "      <td>0</td>\n",
       "      <td>1.0</td>\n",
       "    </tr>\n",
       "    <tr>\n",
       "      <th>6001</th>\n",
       "      <td>4367-NHWMM</td>\n",
       "      <td>2020-01-01</td>\n",
       "      <td>No</td>\n",
       "      <td>0</td>\n",
       "      <td>1</td>\n",
       "      <td>2</td>\n",
       "      <td>24.90</td>\n",
       "      <td>24.9</td>\n",
       "      <td>1.0</td>\n",
       "      <td>0.0</td>\n",
       "      <td>0.0</td>\n",
       "      <td>0.0</td>\n",
       "      <td>0.0</td>\n",
       "      <td>0.0</td>\n",
       "      <td>0.0</td>\n",
       "      <td>0</td>\n",
       "      <td>0</td>\n",
       "      <td>0</td>\n",
       "      <td>0</td>\n",
       "      <td>NaN</td>\n",
       "    </tr>\n",
       "    <tr>\n",
       "      <th>3132</th>\n",
       "      <td>2468-SJFLM</td>\n",
       "      <td>2020-01-01</td>\n",
       "      <td>No</td>\n",
       "      <td>0</td>\n",
       "      <td>1</td>\n",
       "      <td>2</td>\n",
       "      <td>74.30</td>\n",
       "      <td>74.3</td>\n",
       "      <td>2.0</td>\n",
       "      <td>0.0</td>\n",
       "      <td>0.0</td>\n",
       "      <td>0.0</td>\n",
       "      <td>1.0</td>\n",
       "      <td>0.0</td>\n",
       "      <td>0.0</td>\n",
       "      <td>1</td>\n",
       "      <td>0</td>\n",
       "      <td>0</td>\n",
       "      <td>0</td>\n",
       "      <td>1.0</td>\n",
       "    </tr>\n",
       "    <tr>\n",
       "      <th>1063</th>\n",
       "      <td>7143-BQIBA</td>\n",
       "      <td>2019-04-01</td>\n",
       "      <td>No</td>\n",
       "      <td>0</td>\n",
       "      <td>0</td>\n",
       "      <td>3</td>\n",
       "      <td>62.25</td>\n",
       "      <td>612.95</td>\n",
       "      <td>1.0</td>\n",
       "      <td>1.0</td>\n",
       "      <td>0.0</td>\n",
       "      <td>0.0</td>\n",
       "      <td>1.0</td>\n",
       "      <td>1.0</td>\n",
       "      <td>0.0</td>\n",
       "      <td>1</td>\n",
       "      <td>0</td>\n",
       "      <td>0</td>\n",
       "      <td>0</td>\n",
       "      <td>1.0</td>\n",
       "    </tr>\n",
       "    <tr>\n",
       "      <th>6692</th>\n",
       "      <td>8591-NXRCV</td>\n",
       "      <td>2016-09-01</td>\n",
       "      <td>No</td>\n",
       "      <td>0</td>\n",
       "      <td>1</td>\n",
       "      <td>3</td>\n",
       "      <td>74.65</td>\n",
       "      <td>3090.65</td>\n",
       "      <td>1.0</td>\n",
       "      <td>1.0</td>\n",
       "      <td>0.0</td>\n",
       "      <td>1.0</td>\n",
       "      <td>1.0</td>\n",
       "      <td>0.0</td>\n",
       "      <td>1.0</td>\n",
       "      <td>0</td>\n",
       "      <td>0</td>\n",
       "      <td>0</td>\n",
       "      <td>0</td>\n",
       "      <td>2.0</td>\n",
       "    </tr>\n",
       "  </tbody>\n",
       "</table>\n",
       "</div>"
      ],
      "text/plain": [
       "      customerID  BeginDate        EndDate         Type  PaperlessBilling  PaymentMethod  MonthlyCharges TotalCharges  InternetService  OnlineSecurity  OnlineBackup  DeviceProtection  TechSupport  StreamingTV  StreamingMovies  gender  SeniorCitizen  Partner  Dependents  MultipleLines\n",
       "4153  5214-CHIWJ  2017-11-01                   No   365          0               2             20.30         595.05          NaN              NaN            NaN             NaN            NaN          NaN            NaN           1          0           0          0           1.0     \n",
       "7021  1699-HPSBG  2018-11-01  2019-11-01 00:00:00   365          1               1             59.80          727.8          1.0              0.0            0.0             0.0            1.0          1.0            0.0           1          0           0          0           1.0     \n",
       "4374  2718-YSKCS  2014-03-01                   No   730          1               3             19.60        1387.45          NaN              NaN            NaN             NaN            NaN          NaN            NaN           1          0           1          1           1.0     \n",
       "3435  4450-DLLMH  2019-12-01                   No     0          1               4             71.30         157.75          2.0              0.0            0.0             0.0            0.0          0.0            0.0           1          0           0          0           1.0     \n",
       "2783  4760-THGOT  2016-07-01                   No     0          1               1             94.10         4107.3          2.0              1.0            1.0             0.0            0.0          0.0            1.0           0          0           1          0           2.0     \n",
       "316   3973-SKMLN  2014-03-01                   No   730          1               4             19.90         1355.1          NaN              NaN            NaN             NaN            NaN          NaN            NaN           1          0           0          0           1.0     \n",
       "6001  4367-NHWMM  2020-01-01                   No     0          1               2             24.90           24.9          1.0              0.0            0.0             0.0            0.0          0.0            0.0           0          0           0          0           NaN     \n",
       "3132  2468-SJFLM  2020-01-01                   No     0          1               2             74.30           74.3          2.0              0.0            0.0             0.0            1.0          0.0            0.0           1          0           0          0           1.0     \n",
       "1063  7143-BQIBA  2019-04-01                   No     0          0               3             62.25         612.95          1.0              1.0            0.0             0.0            1.0          1.0            0.0           1          0           0          0           1.0     \n",
       "6692  8591-NXRCV  2016-09-01                   No     0          1               3             74.65        3090.65          1.0              1.0            0.0             1.0            1.0          0.0            1.0           0          0           0          0           2.0     "
      ]
     },
     "metadata": {},
     "output_type": "display_data"
    },
    {
     "name": "stdout",
     "output_type": "stream",
     "text": [
      "None\n"
     ]
    }
   ],
   "source": [
    "data_check(df_merged)"
   ]
  },
  {
   "cell_type": "markdown",
   "id": "56761f4f",
   "metadata": {},
   "source": [
    "#### Filling new missing values"
   ]
  },
  {
   "cell_type": "markdown",
   "id": "8719a87f",
   "metadata": {},
   "source": [
    "Since any missing value means that the customer does not have a service we can fill it with a value that indicates as such, in this case that will be set to 0, or false. This missing data is just for customers who did not have both phone and internet."
   ]
  },
  {
   "cell_type": "code",
   "execution_count": 33,
   "id": "bf0e93f9",
   "metadata": {},
   "outputs": [],
   "source": [
    "df_merged = df_merged.fillna(0)"
   ]
  },
  {
   "cell_type": "code",
   "execution_count": 34,
   "id": "d2f0f695",
   "metadata": {},
   "outputs": [
    {
     "name": "stdout",
     "output_type": "stream",
     "text": [
      "\u001b[94mdataframe shape:\u001b[90m\n",
      "(7043, 20)\n",
      "\n",
      "\u001b[94mdf column names:\u001b[90m\n",
      "['customerID', 'BeginDate', 'EndDate', 'Type', 'PaperlessBilling', 'PaymentMethod', 'MonthlyCharges', 'TotalCharges', 'InternetService', 'OnlineSecurity', 'OnlineBackup', 'DeviceProtection', 'TechSupport', 'StreamingTV', 'StreamingMovies', 'gender', 'SeniorCitizen', 'Partner', 'Dependents', 'MultipleLines']\n",
      "\n",
      "\u001b[94mdf info:\u001b[90m\n",
      "<class 'pandas.core.frame.DataFrame'>\n",
      "Int64Index: 7043 entries, 0 to 7042\n",
      "Data columns (total 20 columns):\n",
      " #   Column            Non-Null Count  Dtype  \n",
      "---  ------            --------------  -----  \n",
      " 0   customerID        7043 non-null   object \n",
      " 1   BeginDate         7043 non-null   object \n",
      " 2   EndDate           7043 non-null   object \n",
      " 3   Type              7043 non-null   int64  \n",
      " 4   PaperlessBilling  7043 non-null   int64  \n",
      " 5   PaymentMethod     7043 non-null   int64  \n",
      " 6   MonthlyCharges    7043 non-null   float64\n",
      " 7   TotalCharges      7043 non-null   object \n",
      " 8   InternetService   7043 non-null   float64\n",
      " 9   OnlineSecurity    7043 non-null   float64\n",
      " 10  OnlineBackup      7043 non-null   float64\n",
      " 11  DeviceProtection  7043 non-null   float64\n",
      " 12  TechSupport       7043 non-null   float64\n",
      " 13  StreamingTV       7043 non-null   float64\n",
      " 14  StreamingMovies   7043 non-null   float64\n",
      " 15  gender            7043 non-null   int64  \n",
      " 16  SeniorCitizen     7043 non-null   int64  \n",
      " 17  Partner           7043 non-null   int64  \n",
      " 18  Dependents        7043 non-null   int64  \n",
      " 19  MultipleLines     7043 non-null   float64\n",
      "dtypes: float64(9), int64(7), object(4)\n",
      "memory usage: 1.1+ MB\n",
      "None\n",
      "\n",
      "\u001b[94mPercentage of missing values:\u001b[90m\n",
      "\n",
      "\u001b[94mNumber of duplicates:\u001b[90m\n",
      "0\n",
      "\n",
      "\u001b[94mprint a few columns:\u001b[90m\n"
     ]
    },
    {
     "data": {
      "text/html": [
       "<div>\n",
       "<style scoped>\n",
       "    .dataframe tbody tr th:only-of-type {\n",
       "        vertical-align: middle;\n",
       "    }\n",
       "\n",
       "    .dataframe tbody tr th {\n",
       "        vertical-align: top;\n",
       "    }\n",
       "\n",
       "    .dataframe thead th {\n",
       "        text-align: right;\n",
       "    }\n",
       "</style>\n",
       "<table border=\"1\" class=\"dataframe\">\n",
       "  <thead>\n",
       "    <tr style=\"text-align: center;\">\n",
       "      <th></th>\n",
       "      <th>customerID</th>\n",
       "      <th>BeginDate</th>\n",
       "      <th>EndDate</th>\n",
       "      <th>Type</th>\n",
       "      <th>PaperlessBilling</th>\n",
       "      <th>PaymentMethod</th>\n",
       "      <th>MonthlyCharges</th>\n",
       "      <th>TotalCharges</th>\n",
       "      <th>InternetService</th>\n",
       "      <th>OnlineSecurity</th>\n",
       "      <th>OnlineBackup</th>\n",
       "      <th>DeviceProtection</th>\n",
       "      <th>TechSupport</th>\n",
       "      <th>StreamingTV</th>\n",
       "      <th>StreamingMovies</th>\n",
       "      <th>gender</th>\n",
       "      <th>SeniorCitizen</th>\n",
       "      <th>Partner</th>\n",
       "      <th>Dependents</th>\n",
       "      <th>MultipleLines</th>\n",
       "    </tr>\n",
       "  </thead>\n",
       "  <tbody>\n",
       "    <tr>\n",
       "      <th>4527</th>\n",
       "      <td>7666-WKRON</td>\n",
       "      <td>2016-09-01</td>\n",
       "      <td>2019-12-01 00:00:00</td>\n",
       "      <td>730</td>\n",
       "      <td>1</td>\n",
       "      <td>1</td>\n",
       "      <td>80.45</td>\n",
       "      <td>3201.55</td>\n",
       "      <td>2.0</td>\n",
       "      <td>0.0</td>\n",
       "      <td>0.0</td>\n",
       "      <td>1.0</td>\n",
       "      <td>1.0</td>\n",
       "      <td>0.0</td>\n",
       "      <td>0.0</td>\n",
       "      <td>0</td>\n",
       "      <td>0</td>\n",
       "      <td>0</td>\n",
       "      <td>0</td>\n",
       "      <td>1.0</td>\n",
       "    </tr>\n",
       "    <tr>\n",
       "      <th>6792</th>\n",
       "      <td>4597-ELFTS</td>\n",
       "      <td>2015-02-01</td>\n",
       "      <td>2019-10-01 00:00:00</td>\n",
       "      <td>365</td>\n",
       "      <td>0</td>\n",
       "      <td>1</td>\n",
       "      <td>24.90</td>\n",
       "      <td>1334</td>\n",
       "      <td>0.0</td>\n",
       "      <td>0.0</td>\n",
       "      <td>0.0</td>\n",
       "      <td>0.0</td>\n",
       "      <td>0.0</td>\n",
       "      <td>0.0</td>\n",
       "      <td>0.0</td>\n",
       "      <td>1</td>\n",
       "      <td>0</td>\n",
       "      <td>0</td>\n",
       "      <td>0</td>\n",
       "      <td>2.0</td>\n",
       "    </tr>\n",
       "    <tr>\n",
       "      <th>5744</th>\n",
       "      <td>1371-WEPDS</td>\n",
       "      <td>2016-10-01</td>\n",
       "      <td>No</td>\n",
       "      <td>365</td>\n",
       "      <td>0</td>\n",
       "      <td>1</td>\n",
       "      <td>55.80</td>\n",
       "      <td>2283.3</td>\n",
       "      <td>1.0</td>\n",
       "      <td>0.0</td>\n",
       "      <td>0.0</td>\n",
       "      <td>0.0</td>\n",
       "      <td>0.0</td>\n",
       "      <td>0.0</td>\n",
       "      <td>1.0</td>\n",
       "      <td>1</td>\n",
       "      <td>1</td>\n",
       "      <td>1</td>\n",
       "      <td>0</td>\n",
       "      <td>1.0</td>\n",
       "    </tr>\n",
       "    <tr>\n",
       "      <th>4920</th>\n",
       "      <td>0264-CNITK</td>\n",
       "      <td>2014-03-01</td>\n",
       "      <td>No</td>\n",
       "      <td>730</td>\n",
       "      <td>0</td>\n",
       "      <td>3</td>\n",
       "      <td>20.10</td>\n",
       "      <td>1389.6</td>\n",
       "      <td>0.0</td>\n",
       "      <td>0.0</td>\n",
       "      <td>0.0</td>\n",
       "      <td>0.0</td>\n",
       "      <td>0.0</td>\n",
       "      <td>0.0</td>\n",
       "      <td>0.0</td>\n",
       "      <td>0</td>\n",
       "      <td>0</td>\n",
       "      <td>1</td>\n",
       "      <td>1</td>\n",
       "      <td>1.0</td>\n",
       "    </tr>\n",
       "    <tr>\n",
       "      <th>4122</th>\n",
       "      <td>4632-XJMEX</td>\n",
       "      <td>2015-09-01</td>\n",
       "      <td>No</td>\n",
       "      <td>365</td>\n",
       "      <td>0</td>\n",
       "      <td>4</td>\n",
       "      <td>62.85</td>\n",
       "      <td>3419.5</td>\n",
       "      <td>1.0</td>\n",
       "      <td>1.0</td>\n",
       "      <td>1.0</td>\n",
       "      <td>0.0</td>\n",
       "      <td>1.0</td>\n",
       "      <td>0.0</td>\n",
       "      <td>0.0</td>\n",
       "      <td>1</td>\n",
       "      <td>0</td>\n",
       "      <td>0</td>\n",
       "      <td>1</td>\n",
       "      <td>1.0</td>\n",
       "    </tr>\n",
       "    <tr>\n",
       "      <th>5957</th>\n",
       "      <td>6877-LGWXO</td>\n",
       "      <td>2018-07-01</td>\n",
       "      <td>2020-01-01 00:00:00</td>\n",
       "      <td>0</td>\n",
       "      <td>0</td>\n",
       "      <td>1</td>\n",
       "      <td>78.55</td>\n",
       "      <td>1422.65</td>\n",
       "      <td>2.0</td>\n",
       "      <td>0.0</td>\n",
       "      <td>0.0</td>\n",
       "      <td>0.0</td>\n",
       "      <td>0.0</td>\n",
       "      <td>0.0</td>\n",
       "      <td>1.0</td>\n",
       "      <td>1</td>\n",
       "      <td>1</td>\n",
       "      <td>1</td>\n",
       "      <td>0</td>\n",
       "      <td>1.0</td>\n",
       "    </tr>\n",
       "    <tr>\n",
       "      <th>4464</th>\n",
       "      <td>3018-TFTSU</td>\n",
       "      <td>2018-10-01</td>\n",
       "      <td>2019-10-01 00:00:00</td>\n",
       "      <td>0</td>\n",
       "      <td>0</td>\n",
       "      <td>3</td>\n",
       "      <td>81.70</td>\n",
       "      <td>858.6</td>\n",
       "      <td>2.0</td>\n",
       "      <td>1.0</td>\n",
       "      <td>0.0</td>\n",
       "      <td>1.0</td>\n",
       "      <td>0.0</td>\n",
       "      <td>0.0</td>\n",
       "      <td>0.0</td>\n",
       "      <td>1</td>\n",
       "      <td>0</td>\n",
       "      <td>0</td>\n",
       "      <td>0</td>\n",
       "      <td>1.0</td>\n",
       "    </tr>\n",
       "    <tr>\n",
       "      <th>5276</th>\n",
       "      <td>2725-IWWBA</td>\n",
       "      <td>2016-04-01</td>\n",
       "      <td>No</td>\n",
       "      <td>365</td>\n",
       "      <td>0</td>\n",
       "      <td>2</td>\n",
       "      <td>56.90</td>\n",
       "      <td>2560.1</td>\n",
       "      <td>1.0</td>\n",
       "      <td>1.0</td>\n",
       "      <td>0.0</td>\n",
       "      <td>1.0</td>\n",
       "      <td>1.0</td>\n",
       "      <td>0.0</td>\n",
       "      <td>0.0</td>\n",
       "      <td>1</td>\n",
       "      <td>0</td>\n",
       "      <td>1</td>\n",
       "      <td>1</td>\n",
       "      <td>1.0</td>\n",
       "    </tr>\n",
       "    <tr>\n",
       "      <th>229</th>\n",
       "      <td>0945-TSONX</td>\n",
       "      <td>2016-03-01</td>\n",
       "      <td>No</td>\n",
       "      <td>730</td>\n",
       "      <td>1</td>\n",
       "      <td>4</td>\n",
       "      <td>85.30</td>\n",
       "      <td>4107.25</td>\n",
       "      <td>1.0</td>\n",
       "      <td>1.0</td>\n",
       "      <td>1.0</td>\n",
       "      <td>0.0</td>\n",
       "      <td>1.0</td>\n",
       "      <td>1.0</td>\n",
       "      <td>1.0</td>\n",
       "      <td>0</td>\n",
       "      <td>0</td>\n",
       "      <td>1</td>\n",
       "      <td>1</td>\n",
       "      <td>2.0</td>\n",
       "    </tr>\n",
       "    <tr>\n",
       "      <th>6824</th>\n",
       "      <td>8444-WRIDW</td>\n",
       "      <td>2014-05-01</td>\n",
       "      <td>2019-11-01 00:00:00</td>\n",
       "      <td>0</td>\n",
       "      <td>1</td>\n",
       "      <td>4</td>\n",
       "      <td>80.45</td>\n",
       "      <td>5224.35</td>\n",
       "      <td>2.0</td>\n",
       "      <td>0.0</td>\n",
       "      <td>1.0</td>\n",
       "      <td>0.0</td>\n",
       "      <td>0.0</td>\n",
       "      <td>0.0</td>\n",
       "      <td>0.0</td>\n",
       "      <td>0</td>\n",
       "      <td>1</td>\n",
       "      <td>0</td>\n",
       "      <td>0</td>\n",
       "      <td>2.0</td>\n",
       "    </tr>\n",
       "  </tbody>\n",
       "</table>\n",
       "</div>"
      ],
      "text/plain": [
       "      customerID  BeginDate        EndDate         Type  PaperlessBilling  PaymentMethod  MonthlyCharges TotalCharges  InternetService  OnlineSecurity  OnlineBackup  DeviceProtection  TechSupport  StreamingTV  StreamingMovies  gender  SeniorCitizen  Partner  Dependents  MultipleLines\n",
       "4527  7666-WKRON  2016-09-01  2019-12-01 00:00:00   730          1               1             80.45        3201.55          2.0              0.0            0.0             1.0            1.0          0.0            0.0           0          0           0          0           1.0     \n",
       "6792  4597-ELFTS  2015-02-01  2019-10-01 00:00:00   365          0               1             24.90           1334          0.0              0.0            0.0             0.0            0.0          0.0            0.0           1          0           0          0           2.0     \n",
       "5744  1371-WEPDS  2016-10-01                   No   365          0               1             55.80         2283.3          1.0              0.0            0.0             0.0            0.0          0.0            1.0           1          1           1          0           1.0     \n",
       "4920  0264-CNITK  2014-03-01                   No   730          0               3             20.10         1389.6          0.0              0.0            0.0             0.0            0.0          0.0            0.0           0          0           1          1           1.0     \n",
       "4122  4632-XJMEX  2015-09-01                   No   365          0               4             62.85         3419.5          1.0              1.0            1.0             0.0            1.0          0.0            0.0           1          0           0          1           1.0     \n",
       "5957  6877-LGWXO  2018-07-01  2020-01-01 00:00:00     0          0               1             78.55        1422.65          2.0              0.0            0.0             0.0            0.0          0.0            1.0           1          1           1          0           1.0     \n",
       "4464  3018-TFTSU  2018-10-01  2019-10-01 00:00:00     0          0               3             81.70          858.6          2.0              1.0            0.0             1.0            0.0          0.0            0.0           1          0           0          0           1.0     \n",
       "5276  2725-IWWBA  2016-04-01                   No   365          0               2             56.90         2560.1          1.0              1.0            0.0             1.0            1.0          0.0            0.0           1          0           1          1           1.0     \n",
       "229   0945-TSONX  2016-03-01                   No   730          1               4             85.30        4107.25          1.0              1.0            1.0             0.0            1.0          1.0            1.0           0          0           1          1           2.0     \n",
       "6824  8444-WRIDW  2014-05-01  2019-11-01 00:00:00     0          1               4             80.45        5224.35          2.0              0.0            1.0             0.0            0.0          0.0            0.0           0          1           0          0           2.0     "
      ]
     },
     "metadata": {},
     "output_type": "display_data"
    },
    {
     "name": "stdout",
     "output_type": "stream",
     "text": [
      "None\n"
     ]
    }
   ],
   "source": [
    "data_check(df_merged)"
   ]
  },
  {
   "cell_type": "markdown",
   "id": "9d9d7b22",
   "metadata": {},
   "source": [
    "We need to create a time variable to help the computer calculate how long the customer has had a contract. We are going to set this as the number of days. "
   ]
  },
  {
   "cell_type": "markdown",
   "id": "7cc63731",
   "metadata": {},
   "source": [
    "#### Creating time variable"
   ]
  },
  {
   "cell_type": "code",
   "execution_count": 44,
   "id": "51f89f30",
   "metadata": {},
   "outputs": [],
   "source": [
    "df_merged.loc[df_merged.EndDate == 'No', 'EndDateBin'] = 0\n",
    "df_merged.loc[df_merged.EndDateBin != 0, 'EndDateBin'] = 1"
   ]
  },
  {
   "cell_type": "code",
   "execution_count": 45,
   "id": "46a6041f",
   "metadata": {},
   "outputs": [],
   "source": [
    "df_merged.loc[df_merged.EndDate == 'No', 'EndDate'] = \"2020-01-01 00:00:00\""
   ]
  },
  {
   "cell_type": "code",
   "execution_count": 46,
   "id": "d4b9be74",
   "metadata": {},
   "outputs": [],
   "source": [
    "df_merged['BeginDate'] = pd.to_datetime(df_merged['BeginDate'])\n",
    "df_merged['EndDate'] = pd.to_datetime(df_merged['EndDate'])"
   ]
  },
  {
   "cell_type": "code",
   "execution_count": 47,
   "id": "1ba5f9bf",
   "metadata": {},
   "outputs": [],
   "source": [
    "df_merged['days'] = (df_merged['EndDate'] - df_merged['BeginDate']).dt.days"
   ]
  },
  {
   "cell_type": "code",
   "execution_count": 48,
   "id": "4639a356",
   "metadata": {},
   "outputs": [],
   "source": [
    "df_merged.drop(['BeginDate', 'EndDate', 'customerID'], axis=1, inplace=True)"
   ]
  },
  {
   "cell_type": "code",
   "execution_count": 49,
   "id": "c4e43a93",
   "metadata": {},
   "outputs": [],
   "source": [
    "df_merged.rename(columns={\"EndDateBin\": \"EndDate\"}, inplace=True)"
   ]
  },
  {
   "cell_type": "code",
   "execution_count": 50,
   "id": "bb208581",
   "metadata": {},
   "outputs": [
    {
     "data": {
      "text/html": [
       "<div>\n",
       "<style scoped>\n",
       "    .dataframe tbody tr th:only-of-type {\n",
       "        vertical-align: middle;\n",
       "    }\n",
       "\n",
       "    .dataframe tbody tr th {\n",
       "        vertical-align: top;\n",
       "    }\n",
       "\n",
       "    .dataframe thead th {\n",
       "        text-align: right;\n",
       "    }\n",
       "</style>\n",
       "<table border=\"1\" class=\"dataframe\">\n",
       "  <thead>\n",
       "    <tr style=\"text-align: right;\">\n",
       "      <th></th>\n",
       "      <th>Type</th>\n",
       "      <th>PaperlessBilling</th>\n",
       "      <th>PaymentMethod</th>\n",
       "      <th>MonthlyCharges</th>\n",
       "      <th>TotalCharges</th>\n",
       "      <th>InternetService</th>\n",
       "      <th>OnlineSecurity</th>\n",
       "      <th>OnlineBackup</th>\n",
       "      <th>DeviceProtection</th>\n",
       "      <th>TechSupport</th>\n",
       "      <th>StreamingTV</th>\n",
       "      <th>StreamingMovies</th>\n",
       "      <th>gender</th>\n",
       "      <th>SeniorCitizen</th>\n",
       "      <th>Partner</th>\n",
       "      <th>Dependents</th>\n",
       "      <th>MultipleLines</th>\n",
       "      <th>EndDate</th>\n",
       "      <th>days</th>\n",
       "    </tr>\n",
       "  </thead>\n",
       "  <tbody>\n",
       "    <tr>\n",
       "      <th>0</th>\n",
       "      <td>0</td>\n",
       "      <td>1</td>\n",
       "      <td>1</td>\n",
       "      <td>29.85</td>\n",
       "      <td>29.85</td>\n",
       "      <td>1.0</td>\n",
       "      <td>0.0</td>\n",
       "      <td>1.0</td>\n",
       "      <td>0.0</td>\n",
       "      <td>0.0</td>\n",
       "      <td>0.0</td>\n",
       "      <td>0.0</td>\n",
       "      <td>0</td>\n",
       "      <td>0</td>\n",
       "      <td>1</td>\n",
       "      <td>0</td>\n",
       "      <td>0.0</td>\n",
       "      <td>0.0</td>\n",
       "      <td>0</td>\n",
       "    </tr>\n",
       "    <tr>\n",
       "      <th>1</th>\n",
       "      <td>365</td>\n",
       "      <td>0</td>\n",
       "      <td>2</td>\n",
       "      <td>56.95</td>\n",
       "      <td>1889.5</td>\n",
       "      <td>1.0</td>\n",
       "      <td>1.0</td>\n",
       "      <td>0.0</td>\n",
       "      <td>1.0</td>\n",
       "      <td>0.0</td>\n",
       "      <td>0.0</td>\n",
       "      <td>0.0</td>\n",
       "      <td>1</td>\n",
       "      <td>0</td>\n",
       "      <td>0</td>\n",
       "      <td>0</td>\n",
       "      <td>1.0</td>\n",
       "      <td>0.0</td>\n",
       "      <td>1005</td>\n",
       "    </tr>\n",
       "    <tr>\n",
       "      <th>2</th>\n",
       "      <td>0</td>\n",
       "      <td>1</td>\n",
       "      <td>2</td>\n",
       "      <td>53.85</td>\n",
       "      <td>108.15</td>\n",
       "      <td>1.0</td>\n",
       "      <td>1.0</td>\n",
       "      <td>1.0</td>\n",
       "      <td>0.0</td>\n",
       "      <td>0.0</td>\n",
       "      <td>0.0</td>\n",
       "      <td>0.0</td>\n",
       "      <td>1</td>\n",
       "      <td>0</td>\n",
       "      <td>0</td>\n",
       "      <td>0</td>\n",
       "      <td>1.0</td>\n",
       "      <td>1.0</td>\n",
       "      <td>61</td>\n",
       "    </tr>\n",
       "    <tr>\n",
       "      <th>3</th>\n",
       "      <td>365</td>\n",
       "      <td>0</td>\n",
       "      <td>3</td>\n",
       "      <td>42.30</td>\n",
       "      <td>1840.75</td>\n",
       "      <td>1.0</td>\n",
       "      <td>1.0</td>\n",
       "      <td>0.0</td>\n",
       "      <td>1.0</td>\n",
       "      <td>1.0</td>\n",
       "      <td>0.0</td>\n",
       "      <td>0.0</td>\n",
       "      <td>1</td>\n",
       "      <td>0</td>\n",
       "      <td>0</td>\n",
       "      <td>0</td>\n",
       "      <td>0.0</td>\n",
       "      <td>0.0</td>\n",
       "      <td>1340</td>\n",
       "    </tr>\n",
       "    <tr>\n",
       "      <th>4</th>\n",
       "      <td>0</td>\n",
       "      <td>1</td>\n",
       "      <td>1</td>\n",
       "      <td>70.70</td>\n",
       "      <td>151.65</td>\n",
       "      <td>2.0</td>\n",
       "      <td>0.0</td>\n",
       "      <td>0.0</td>\n",
       "      <td>0.0</td>\n",
       "      <td>0.0</td>\n",
       "      <td>0.0</td>\n",
       "      <td>0.0</td>\n",
       "      <td>0</td>\n",
       "      <td>0</td>\n",
       "      <td>0</td>\n",
       "      <td>0</td>\n",
       "      <td>1.0</td>\n",
       "      <td>1.0</td>\n",
       "      <td>61</td>\n",
       "    </tr>\n",
       "  </tbody>\n",
       "</table>\n",
       "</div>"
      ],
      "text/plain": [
       "   Type  PaperlessBilling  PaymentMethod  MonthlyCharges TotalCharges  \\\n",
       "0     0                 1              1           29.85        29.85   \n",
       "1   365                 0              2           56.95       1889.5   \n",
       "2     0                 1              2           53.85       108.15   \n",
       "3   365                 0              3           42.30      1840.75   \n",
       "4     0                 1              1           70.70       151.65   \n",
       "\n",
       "   InternetService  OnlineSecurity  OnlineBackup  DeviceProtection  \\\n",
       "0              1.0             0.0           1.0               0.0   \n",
       "1              1.0             1.0           0.0               1.0   \n",
       "2              1.0             1.0           1.0               0.0   \n",
       "3              1.0             1.0           0.0               1.0   \n",
       "4              2.0             0.0           0.0               0.0   \n",
       "\n",
       "   TechSupport  StreamingTV  StreamingMovies  gender  SeniorCitizen  Partner  \\\n",
       "0          0.0          0.0              0.0       0              0        1   \n",
       "1          0.0          0.0              0.0       1              0        0   \n",
       "2          0.0          0.0              0.0       1              0        0   \n",
       "3          1.0          0.0              0.0       1              0        0   \n",
       "4          0.0          0.0              0.0       0              0        0   \n",
       "\n",
       "   Dependents  MultipleLines  EndDate  days  \n",
       "0           0            0.0      0.0     0  \n",
       "1           0            1.0      0.0  1005  \n",
       "2           0            1.0      1.0    61  \n",
       "3           0            0.0      0.0  1340  \n",
       "4           0            1.0      1.0    61  "
      ]
     },
     "execution_count": 50,
     "metadata": {},
     "output_type": "execute_result"
    }
   ],
   "source": [
    "df_merged.head()"
   ]
  },
  {
   "cell_type": "markdown",
   "id": "facd0963",
   "metadata": {
    "heading_collapsed": true
   },
   "source": [
    "#### finding an error"
   ]
  },
  {
   "cell_type": "markdown",
   "id": "d7beb112",
   "metadata": {
    "hidden": true
   },
   "source": [
    "WE are finding an empty value that is not a NaN value, so we need to find out which column so we can fix it. "
   ]
  },
  {
   "cell_type": "code",
   "execution_count": 51,
   "id": "8bc26875",
   "metadata": {
    "hidden": true
   },
   "outputs": [],
   "source": [
    "# this can normally be done by the model but we are getting an error in model training \n",
    "# ValueError: could not convert string to float: ''\n",
    "# for column in df_merged.columns.tolist():\n",
    "#     print(column)\n",
    "#     df_merged[column] = df_merged[column].astype('float')\n",
    "# df_merged.info()"
   ]
  },
  {
   "cell_type": "code",
   "execution_count": 52,
   "id": "eeeace64",
   "metadata": {
    "hidden": true
   },
   "outputs": [
    {
     "name": "stdout",
     "output_type": "stream",
     "text": [
      "488  \n",
      "753  \n",
      "936  \n",
      "1082  \n",
      "1340  \n",
      "3331  \n",
      "3826  \n",
      "4380  \n",
      "5218  \n",
      "6670  \n",
      "6754  \n"
     ]
    }
   ],
   "source": [
    "# now we have the column we can find the row numbers. \n",
    "error_list =  df_merged.TotalCharges.tolist()\n",
    "for (i, e) in enumerate(error_list, start=0):\n",
    "    try:\n",
    "        float(e)\n",
    "    except:\n",
    "        print(i, e)\n",
    "# for e in error_list:\n",
    "#     if float(e) < 10:\n",
    "#         print(e)"
   ]
  },
  {
   "cell_type": "markdown",
   "id": "00dd046f",
   "metadata": {
    "hidden": true
   },
   "source": [
    "Now lets find a sample and see what is happening. "
   ]
  },
  {
   "cell_type": "code",
   "execution_count": 53,
   "id": "6b967e0b",
   "metadata": {
    "hidden": true,
    "scrolled": false
   },
   "outputs": [],
   "source": [
    "# df_merged.iloc[753]"
   ]
  },
  {
   "cell_type": "markdown",
   "id": "b7b3cb7c",
   "metadata": {
    "hidden": true
   },
   "source": [
    "We can see that if the EndDate = 0 (first day on the plan) the total charges are empty, as this is a plan not prepaid they are likely to be paying at the end of the month, so we can set the value to 0. \n",
    "\n",
    "The other option would be to be the same as MonthlyCharges, but we would have to check the plans with the salespeople to confirm which is right. "
   ]
  },
  {
   "cell_type": "code",
   "execution_count": 54,
   "id": "19440335",
   "metadata": {
    "hidden": true,
    "scrolled": true
   },
   "outputs": [],
   "source": [
    "df_merged.replace(r'^\\s*$', '0', regex=True, inplace = True)"
   ]
  },
  {
   "cell_type": "code",
   "execution_count": 55,
   "id": "ac3d49a1",
   "metadata": {
    "hidden": true
   },
   "outputs": [],
   "source": [
    "df_merged.loc[df_merged['days'] <= 0, 'days'] = '0'"
   ]
  },
  {
   "cell_type": "code",
   "execution_count": 56,
   "id": "33df8987",
   "metadata": {
    "hidden": true,
    "scrolled": true
   },
   "outputs": [],
   "source": [
    "# df_merged"
   ]
  },
  {
   "cell_type": "code",
   "execution_count": 57,
   "id": "2ce1d1de",
   "metadata": {
    "hidden": true,
    "scrolled": true
   },
   "outputs": [],
   "source": [
    "for column in df_merged.columns.tolist():\n",
    "    df_merged[column] = df_merged[column].astype('float')\n",
    "# df_merged.info()"
   ]
  },
  {
   "cell_type": "markdown",
   "id": "4d6f3f35",
   "metadata": {
    "heading_collapsed": true
   },
   "source": [
    "### imbalance"
   ]
  },
  {
   "cell_type": "code",
   "execution_count": 58,
   "id": "db736e86",
   "metadata": {
    "hidden": true
   },
   "outputs": [
    {
     "data": {
      "image/png": "[encoded data removed]",
      "text/plain": [
       "<Figure size 100x100 with 1 Axes>"
      ]
     },
     "metadata": {},
     "output_type": "display_data"
    }
   ],
   "source": [
    "df_merged.EndDate.plot(kind='hist', figsize=(1,1))\n",
    "plt.show()"
   ]
  },
  {
   "cell_type": "markdown",
   "id": "f159d34c",
   "metadata": {
    "hidden": true
   },
   "source": [
    "~We can see that there is an imbalance in the number of customers with different length contracts, lets check how this translates to them canceling.~ "
   ]
  },
  {
   "cell_type": "code",
   "execution_count": 59,
   "id": "ec94042b",
   "metadata": {
    "hidden": true
   },
   "outputs": [],
   "source": [
    "df_merged, df_int = train_test_split(df_merged, test_size=0.4, random_state=789456)"
   ]
  },
  {
   "cell_type": "code",
   "execution_count": 60,
   "id": "2a6856ef",
   "metadata": {
    "hidden": true
   },
   "outputs": [],
   "source": [
    "# df_merged_zeros = df_merged[df_merged.EndDate == 0]\n",
    "# df_merged_ones = df_merged[df_merged.EndDate == 1]"
   ]
  },
  {
   "cell_type": "code",
   "execution_count": 61,
   "id": "1e8e3000",
   "metadata": {
    "hidden": true,
    "scrolled": true
   },
   "outputs": [],
   "source": [
    "# display(df_merged_zeros.EndDate.sum(), df_merged_zeros.shape)\n",
    "# display(df_merged_ones.EndDate.sum(), df_merged_ones.shape)"
   ]
  },
  {
   "cell_type": "code",
   "execution_count": 62,
   "id": "3c386870",
   "metadata": {
    "hidden": true
   },
   "outputs": [],
   "source": [
    "# df_merged = pd.concat([df_merged_zeros] + ([df_merged_ones] * 3))\n",
    "# df_merged = shuffle(df_merged, random_state=456123)"
   ]
  },
  {
   "cell_type": "code",
   "execution_count": 63,
   "id": "e1589f84",
   "metadata": {
    "hidden": true
   },
   "outputs": [],
   "source": [
    "# cont_df1 = df_merged[df_merged.Type == 0]\n",
    "# cont_df2 = df_merged[df_merged.Type == 365]\n",
    "# cont_df3 = df_merged[df_merged.Type == 730]"
   ]
  },
  {
   "cell_type": "code",
   "execution_count": 64,
   "id": "b70208e6",
   "metadata": {
    "hidden": true,
    "scrolled": true
   },
   "outputs": [],
   "source": [
    "# display(cont_df1.EndDate.sum(), cont_df1.shape[0])\n",
    "# display(cont_df2.EndDate.sum(), cont_df2.shape[0])\n",
    "# display(cont_df3.EndDate.sum(), cont_df3.shape[0])"
   ]
  },
  {
   "cell_type": "markdown",
   "id": "c75228a2",
   "metadata": {
    "hidden": true
   },
   "source": [
    "~The difference is significant. We can see that that almost half the month to month customers cancel, but only 48 of the customers with a 2 year contract canceled. This will have a significant impact on the Machine learning model's ability to predict if long term customers will cancel, so we should downsample the number of 0s in the 1 and 2 year contract group, and upsample their representation in the total dataset.~"
   ]
  },
  {
   "cell_type": "code",
   "execution_count": 65,
   "id": "ba6fc295",
   "metadata": {
    "hidden": true
   },
   "outputs": [],
   "source": [
    "# cont_df2_zeros = cont_df2[cont_df2['EndDate'] == 0]\n",
    "# cont_df2_ones = cont_df2[cont_df2['EndDate'] == 1]\n",
    "\n",
    "# cont_df3_zeros = cont_df3[cont_df3['EndDate'] == 0]\n",
    "# cont_df3_ones = cont_df3[cont_df3['EndDate'] == 1]"
   ]
  },
  {
   "cell_type": "code",
   "execution_count": 66,
   "id": "63e3df6a",
   "metadata": {
    "hidden": true,
    "scrolled": true
   },
   "outputs": [],
   "source": [
    "# display(cont_df2_zeros.shape[0])\n",
    "# display(cont_df2_ones.shape[0])\n",
    "\n",
    "# display(cont_df3_zeros.shape[0])\n",
    "# display(cont_df3_ones.shape[0])"
   ]
  },
  {
   "cell_type": "code",
   "execution_count": 67,
   "id": "f7c16e7d",
   "metadata": {
    "hidden": true
   },
   "outputs": [],
   "source": [
    "# cont_df2_down = pd.concat([cont_df2_zeros.sample(frac=0.5, random_state=12345)] + [cont_df2_ones] + [cont_df2_ones])\n",
    "# cont_df2_down = pd.concat([cont_df2_zeros] + ([cont_df2_ones] * 1))\n",
    "# cont_df3_down = pd.concat([cont_df3_zeros] + ([cont_df3_ones] * 2))"
   ]
  },
  {
   "cell_type": "code",
   "execution_count": 68,
   "id": "741a9b8b",
   "metadata": {
    "hidden": true
   },
   "outputs": [],
   "source": [
    "# cont_df3_down.shape"
   ]
  },
  {
   "cell_type": "code",
   "execution_count": 69,
   "id": "fa233a72",
   "metadata": {
    "hidden": true
   },
   "outputs": [],
   "source": [
    "# df_merged = pd.concat([cont_df1] + [cont_df2_down] + [cont_df3_down])"
   ]
  },
  {
   "cell_type": "markdown",
   "id": "44adb1d4",
   "metadata": {
    "hidden": true
   },
   "source": [
    "~The shuffle didn't have a random_state set at the start, and we were able to discover the consistency of the model with this. We decided to set a random_state in order for the review to be consistent with the findings that we made.~"
   ]
  },
  {
   "cell_type": "code",
   "execution_count": 70,
   "id": "c341c0dc",
   "metadata": {
    "hidden": true
   },
   "outputs": [],
   "source": [
    "# df_merged = shuffle(df_merged, random_state=456123)"
   ]
  },
  {
   "cell_type": "markdown",
   "id": "e4ec02eb",
   "metadata": {
    "hidden": true
   },
   "source": [
    "After experimenting with enriching data it was observed that doing so reduced the accuracy of the models. Because of this the code is no longer being used. "
   ]
  },
  {
   "cell_type": "markdown",
   "id": "af5cc870",
   "metadata": {
    "heading_collapsed": true
   },
   "source": [
    "### Creating features and Targets"
   ]
  },
  {
   "cell_type": "code",
   "execution_count": 71,
   "id": "09ea159c",
   "metadata": {
    "hidden": true,
    "scrolled": false
   },
   "outputs": [],
   "source": [
    "target_train = df_merged['EndDate']\n",
    "features_train = df_merged.drop(['EndDate',], axis=1)\n",
    "# display(target.head())\n",
    "# display(features.head())"
   ]
  },
  {
   "cell_type": "code",
   "execution_count": 72,
   "id": "4142bcdd",
   "metadata": {
    "hidden": true
   },
   "outputs": [],
   "source": [
    "target_int = df_int['EndDate']\n",
    "features_int = df_int.drop(['EndDate',], axis=1)"
   ]
  },
  {
   "cell_type": "code",
   "execution_count": 73,
   "id": "e2fafbd8",
   "metadata": {
    "hidden": true
   },
   "outputs": [],
   "source": [
    "features_valid, features_test, target_valid, target_test = train_test_split(features_int, target_int, test_size=0.5, random_state=12345)"
   ]
  },
  {
   "cell_type": "code",
   "execution_count": 74,
   "id": "aded8552",
   "metadata": {
    "hidden": true
   },
   "outputs": [],
   "source": [
    "from sklearn.preprocessing import StandardScaler\n",
    "sc = StandardScaler()\n",
    "sc.fit(features_train)\n",
    "features_train = pd.DataFrame(sc.transform(features_train))\n",
    "features_valid = pd.DataFrame(sc.transform(features_valid))\n",
    "features_test = pd.DataFrame(sc.transform(features_test))"
   ]
  },
  {
   "cell_type": "markdown",
   "id": "ca2b19d9",
   "metadata": {
    "heading_collapsed": true
   },
   "source": [
    "### Decision Tree Classifier "
   ]
  },
  {
   "cell_type": "code",
   "execution_count": 75,
   "id": "95156eef",
   "metadata": {
    "hidden": true
   },
   "outputs": [],
   "source": [
    "from sklearn.tree import DecisionTreeClassifier\n",
    "from sklearn.metrics import roc_auc_score\n",
    "from sklearn.metrics import roc_curve, auc"
   ]
  },
  {
   "cell_type": "code",
   "execution_count": 76,
   "id": "738a6154",
   "metadata": {
    "hidden": true,
    "scrolled": true
   },
   "outputs": [
    {
     "data": {
      "text/html": [
       "<style>#sk-container-id-1 {color: black;background-color: white;}#sk-container-id-1 pre{padding: 0;}#sk-container-id-1 div.sk-toggleable {background-color: white;}#sk-container-id-1 label.sk-toggleable__label {cursor: pointer;display: block;width: 100%;margin-bottom: 0;padding: 0.3em;box-sizing: border-box;text-align: center;}#sk-container-id-1 label.sk-toggleable__label-arrow:before {content: \"▸\";float: left;margin-right: 0.25em;color: #696969;}#sk-container-id-1 label.sk-toggleable__label-arrow:hover:before {color: black;}#sk-container-id-1 div.sk-estimator:hover label.sk-toggleable__label-arrow:before {color: black;}#sk-container-id-1 div.sk-toggleable__content {max-height: 0;max-width: 0;overflow: hidden;text-align: left;background-color: #f0f8ff;}#sk-container-id-1 div.sk-toggleable__content pre {margin: 0.2em;color: black;border-radius: 0.25em;background-color: #f0f8ff;}#sk-container-id-1 input.sk-toggleable__control:checked~div.sk-toggleable__content {max-height: 200px;max-width: 100%;overflow: auto;}#sk-container-id-1 input.sk-toggleable__control:checked~label.sk-toggleable__label-arrow:before {content: \"▾\";}#sk-container-id-1 div.sk-estimator input.sk-toggleable__control:checked~label.sk-toggleable__label {background-color: #d4ebff;}#sk-container-id-1 div.sk-label input.sk-toggleable__control:checked~label.sk-toggleable__label {background-color: #d4ebff;}#sk-container-id-1 input.sk-hidden--visually {border: 0;clip: rect(1px 1px 1px 1px);clip: rect(1px, 1px, 1px, 1px);height: 1px;margin: -1px;overflow: hidden;padding: 0;position: absolute;width: 1px;}#sk-container-id-1 div.sk-estimator {font-family: monospace;background-color: #f0f8ff;border: 1px dotted black;border-radius: 0.25em;box-sizing: border-box;margin-bottom: 0.5em;}#sk-container-id-1 div.sk-estimator:hover {background-color: #d4ebff;}#sk-container-id-1 div.sk-parallel-item::after {content: \"\";width: 100%;border-bottom: 1px solid gray;flex-grow: 1;}#sk-container-id-1 div.sk-label:hover label.sk-toggleable__label {background-color: #d4ebff;}#sk-container-id-1 div.sk-serial::before {content: \"\";position: absolute;border-left: 1px solid gray;box-sizing: border-box;top: 0;bottom: 0;left: 50%;z-index: 0;}#sk-container-id-1 div.sk-serial {display: flex;flex-direction: column;align-items: center;background-color: white;padding-right: 0.2em;padding-left: 0.2em;position: relative;}#sk-container-id-1 div.sk-item {position: relative;z-index: 1;}#sk-container-id-1 div.sk-parallel {display: flex;align-items: stretch;justify-content: center;background-color: white;position: relative;}#sk-container-id-1 div.sk-item::before, #sk-container-id-1 div.sk-parallel-item::before {content: \"\";position: absolute;border-left: 1px solid gray;box-sizing: border-box;top: 0;bottom: 0;left: 50%;z-index: -1;}#sk-container-id-1 div.sk-parallel-item {display: flex;flex-direction: column;z-index: 1;position: relative;background-color: white;}#sk-container-id-1 div.sk-parallel-item:first-child::after {align-self: flex-end;width: 50%;}#sk-container-id-1 div.sk-parallel-item:last-child::after {align-self: flex-start;width: 50%;}#sk-container-id-1 div.sk-parallel-item:only-child::after {width: 0;}#sk-container-id-1 div.sk-dashed-wrapped {border: 1px dashed gray;margin: 0 0.4em 0.5em 0.4em;box-sizing: border-box;padding-bottom: 0.4em;background-color: white;}#sk-container-id-1 div.sk-label label {font-family: monospace;font-weight: bold;display: inline-block;line-height: 1.2em;}#sk-container-id-1 div.sk-label-container {text-align: center;}#sk-container-id-1 div.sk-container {/* jupyter's `normalize.less` sets `[hidden] { display: none; }` but bootstrap.min.css set `[hidden] { display: none !important; }` so we also need the `!important` here to be able to override the default hidden behavior on the sphinx rendered scikit-learn.org. See: https://github.com/scikit-learn/scikit-learn/issues/21755 */display: inline-block !important;position: relative;}#sk-container-id-1 div.sk-text-repr-fallback {display: none;}</style><div id=\"sk-container-id-1\" class=\"sk-top-container\"><div class=\"sk-text-repr-fallback\"><pre>DecisionTreeClassifier()</pre><b>In a Jupyter environment, please rerun this cell to show the HTML representation or trust the notebook. <br />On GitHub, the HTML representation is unable to render, please try loading this page with nbviewer.org.</b></div><div class=\"sk-container\" hidden><div class=\"sk-item\"><div class=\"sk-estimator sk-toggleable\"><input class=\"sk-toggleable__control sk-hidden--visually\" id=\"sk-estimator-id-1\" type=\"checkbox\" checked><label for=\"sk-estimator-id-1\" class=\"sk-toggleable__label sk-toggleable__label-arrow\">DecisionTreeClassifier</label><div class=\"sk-toggleable__content\"><pre>DecisionTreeClassifier()</pre></div></div></div></div></div>"
      ],
      "text/plain": [
       "DecisionTreeClassifier()"
      ]
     },
     "execution_count": 76,
     "metadata": {},
     "output_type": "execute_result"
    }
   ],
   "source": [
    "model_1 = DecisionTreeClassifier()\n",
    "model_1.fit(features_train, target_train)"
   ]
  },
  {
   "cell_type": "code",
   "execution_count": 77,
   "id": "6d9f3077",
   "metadata": {
    "hidden": true,
    "scrolled": false
   },
   "outputs": [
    {
     "name": "stdout",
     "output_type": "stream",
     "text": [
      "auc-roc of the Decision Tree Classifier model on the validation set: 0.7417924478339158\n"
     ]
    }
   ],
   "source": [
    "predict_valid = model_1.predict_proba(features_valid)\n",
    "predict_valid = predict_valid[:,1]\n",
    "fpr, tpr, threshold = roc_curve(target_valid, predict_valid)\n",
    "auc_roc = auc(fpr,tpr)\n",
    "print(\"auc-roc of the Decision Tree Classifier model on the validation set:\", auc_roc)"
   ]
  },
  {
   "cell_type": "markdown",
   "id": "7847b626",
   "metadata": {
    "hidden": true
   },
   "source": [
    "The Decision Tree Classifier achieved a score of 0.7417924478339158 on the validation set, this does not meet the minimum pass condition.  "
   ]
  },
  {
   "cell_type": "markdown",
   "id": "70310675",
   "metadata": {
    "heading_collapsed": true
   },
   "source": [
    "### Random Forest Classifier"
   ]
  },
  {
   "cell_type": "code",
   "execution_count": 78,
   "id": "9d38a809",
   "metadata": {
    "hidden": true
   },
   "outputs": [],
   "source": [
    "from sklearn.ensemble import RandomForestClassifier"
   ]
  },
  {
   "cell_type": "code",
   "execution_count": 79,
   "id": "2ff38d33",
   "metadata": {
    "hidden": true,
    "scrolled": true
   },
   "outputs": [
    {
     "name": "stdout",
     "output_type": "stream",
     "text": [
      "depth 10\n",
      "est 300\n",
      "0\n",
      "auc-roc of the Random Forest model on the validation set: 0.87629223599195\n"
     ]
    }
   ],
   "source": [
    "\n",
    "m_depth = 10\n",
    "m_est = 300\n",
    "max_roc = 0\n",
    "# for i in range(1, 21):\n",
    "#     for xi in range(50, 350, 50):\n",
    "#         clear_output(wait=True)\n",
    "#         print(i)\n",
    "#         print(xi)\n",
    "#         print(max_roc)\n",
    "#         model_2 = RandomForestClassifier(n_estimators=xi, max_depth=i, random_state=12345, n_jobs=10)\n",
    "#         model_2.fit(features_train, target_train)\n",
    "#         predict_valid = model_2.predict_proba(features_valid)\n",
    "#         predict_valid = predict_valid[:,1]\n",
    "#         fpr, tpr, threshold = roc_curve(target_valid, predict_valid)\n",
    "#         auc_roc = auc(fpr,tpr)\n",
    "#         if auc_roc > max_roc:\n",
    "#             max_roc = auc_roc\n",
    "#             m_depth = i\n",
    "#             m_est = xi\n",
    "    \n",
    "clear_output()        \n",
    "print(f'depth {m_depth}')\n",
    "print(f'est {m_est}')\n",
    "print(max_roc)\n",
    "model_2 = RandomForestClassifier(n_estimators=m_est, max_depth=m_depth, random_state=12345, n_jobs=10)\n",
    "model_2.fit(features_train, target_train)\n",
    "predict_valid = model_2.predict_proba(features_valid)\n",
    "predict_valid = predict_valid[:,1]\n",
    "fpr, tpr, threshold = roc_curve(target_valid, predict_valid)\n",
    "auc_roc = auc(fpr,tpr)\n",
    "print(\"auc-roc of the Random Forest model on the validation set:\", auc_roc)"
   ]
  },
  {
   "cell_type": "markdown",
   "id": "abc2b704",
   "metadata": {
    "hidden": true
   },
   "source": [
    "The Random Forrest Classifier achieved a score of 0.87629223599195 on the validation set, this meets the customer requirements but as we test other models we find we can do better. "
   ]
  },
  {
   "cell_type": "markdown",
   "id": "4b404617",
   "metadata": {
    "heading_collapsed": true
   },
   "source": [
    "### LGBM Classifier"
   ]
  },
  {
   "cell_type": "code",
   "execution_count": 80,
   "id": "3cfc6297",
   "metadata": {
    "hidden": true
   },
   "outputs": [],
   "source": [
    "from lightgbm import LGBMClassifier"
   ]
  },
  {
   "cell_type": "code",
   "execution_count": 81,
   "id": "4bacfde7",
   "metadata": {
    "hidden": true
   },
   "outputs": [
    {
     "name": "stdout",
     "output_type": "stream",
     "text": [
      "depth 6\n",
      "leaf 30\n",
      "est 125\n",
      "l rate 0.1\n",
      "child 16\n",
      "0\n",
      "auc-roc of the LGBM Classifier model on the validation set: 0.9077640080499947\n"
     ]
    }
   ],
   "source": [
    "m_depth = 6\n",
    "m_leaf = 30\n",
    "n_est = 125\n",
    "l_rate =0.1\n",
    "n_child = 16\n",
    "max_roc = 0\n",
    "# for i in range(1, 12):\n",
    "#     for xi in range(5, 35, 5):\n",
    "#         for xxi in range(25, 150, 25):\n",
    "# #             for xxxi in range(1, 12, 1):    \n",
    "#                 for xxxxi in range(10, 21, 1):\n",
    "#                     clear_output(wait=True)\n",
    "#                     print(f'depth {i}')\n",
    "#                     print(f'leaf {i*xi}')\n",
    "#                     print(f'est {xxi}')\n",
    "# #                     print(f'l rate {xxxi}')\n",
    "#                     print(f'child {xxxxi}')\n",
    "#                     print(max_roc)\n",
    "#                     model_3 = LGBMClassifier(\n",
    "#                         max_depth=i, \n",
    "#                         num_leaves=i*xi, \n",
    "#                         n_estimators=xxi,\n",
    "#                         learning_rate=0.1,\n",
    "#                         min_child_samples=xxxxi,\n",
    "#                         random_state=12345, \n",
    "#                         n_jobs=-1)\n",
    "#                     model_3.fit(features_train, target_train)\n",
    "#                     predict_valid = model_3.predict_proba(features_valid)\n",
    "#                     predict_valid = predict_valid[:,1]\n",
    "#                     fpr, tpr, threshold = roc_curve(target_valid, predict_valid)\n",
    "#                     auc_roc = auc(fpr,tpr)\n",
    "#                     if auc_roc > max_roc:\n",
    "#                         max_roc = auc_roc\n",
    "#                         m_depth = i\n",
    "#                         m_leaf = i*xi\n",
    "#                         n_est = xxi\n",
    "# #                         l_rate = xxxi/100\n",
    "#                         n_child = xxxxi\n",
    "    \n",
    "clear_output()        \n",
    "print(f'depth {m_depth}')\n",
    "print(f'leaf {m_leaf}')\n",
    "print(f'est {n_est}')\n",
    "print(f'l rate {l_rate}')\n",
    "print(f'child {n_child}')\n",
    "print(max_roc)\n",
    "model_3 = LGBMClassifier(\n",
    "    max_depth=m_depth, \n",
    "    num_leaves=m_leaf, \n",
    "    n_estimators=n_est, \n",
    "    random_state=12345,\n",
    "    min_child_samples = n_child,\n",
    "    n_jobs=-1)\n",
    "model_3.fit(features_train, target_train)\n",
    "predict_valid = model_3.predict_proba(features_valid)\n",
    "predict_valid = predict_valid[:,1]\n",
    "fpr, tpr, threshold = roc_curve(target_valid, predict_valid)\n",
    "auc_roc = auc(fpr,tpr)\n",
    "print(\"auc-roc of the LGBM Classifier model on the validation set:\", auc_roc)"
   ]
  },
  {
   "cell_type": "markdown",
   "id": "51bcc811",
   "metadata": {
    "hidden": true
   },
   "source": [
    "The LGBM Classifier achieved a score of 0.9077640080499947 on the validation set. While this is a good score there are a large number of hyper parameter that need to be tuned to make this possible. Even a small change in these can have a drastic affect on the result, which may indicate overfitting. "
   ]
  },
  {
   "cell_type": "markdown",
   "id": "a8989959",
   "metadata": {},
   "source": [
    "### Catboost Classifier"
   ]
  },
  {
   "cell_type": "code",
   "execution_count": 82,
   "id": "268bdc34",
   "metadata": {},
   "outputs": [],
   "source": [
    "from catboost import CatBoostClassifier"
   ]
  },
  {
   "cell_type": "code",
   "execution_count": 83,
   "id": "8426d1d6",
   "metadata": {
    "code_folding": [
     30
    ],
    "scrolled": false
   },
   "outputs": [
    {
     "name": "stdout",
     "output_type": "stream",
     "text": [
      "depth 6\n",
      "learning rate 0.34\n",
      "0\n",
      "auc-roc of the Catboost Classifier model on the validation set: 0.901603378879356\n"
     ]
    }
   ],
   "source": [
    "m_depth = 6\n",
    "m_lr = 0.34\n",
    "max_roc = 0\n",
    "# for i in range(3, 13):\n",
    "#     for xi in range(12, 22, 1):\n",
    "#         clear_output(wait=True)\n",
    "#         print(i)\n",
    "#         print(xi/100)\n",
    "#         print(max_roc)\n",
    "#         model_4 = CatBoostClassifier(iterations=100,\n",
    "#                             learning_rate=xi/100,\n",
    "#                             max_depth=i, \n",
    "#                             min_child_samples=10,\n",
    "#                             task_type='GPU',\n",
    "#                             random_state=12345,\n",
    "#                             verbose=False)\n",
    "#         model_4.fit(features_train, target_train)\n",
    "#         predict_valid = model_4.predict_proba(features_valid)\n",
    "#         predict_valid = predict_valid[:,1]\n",
    "#         fpr, tpr, threshold = roc_curve(target_valid, predict_valid)\n",
    "#         auc_roc = auc(fpr,tpr)\n",
    "#         if auc_roc > max_roc:\n",
    "#             max_roc = auc_roc\n",
    "#             m_depth = i\n",
    "#             m_lr = xi/100\n",
    "    \n",
    "clear_output()        \n",
    "print(f'depth {m_depth}')\n",
    "print(f'learning rate {m_lr}')\n",
    "print(max_roc)\n",
    "model_4 = CatBoostClassifier(iterations=100,\n",
    "                    learning_rate=m_lr,\n",
    "                    max_depth=m_depth,\n",
    "                    min_child_samples=10,\n",
    "                    task_type='GPU',\n",
    "                    random_state=12345,\n",
    "                    verbose=False)\n",
    "model_4.fit(features_train, target_train)\n",
    "predict_valid = model_4.predict_proba(features_valid)\n",
    "predict_valid = predict_valid[:,1]\n",
    "fpr, tpr, threshold = roc_curve(target_valid, predict_valid)\n",
    "auc_roc = auc(fpr,tpr)\n",
    "print(\"auc-roc of the Catboost Classifier model on the validation set:\", auc_roc)"
   ]
  },
  {
   "cell_type": "markdown",
   "id": "e125376f",
   "metadata": {},
   "source": [
    "The Catboost Classifier achieved a score of 0.901603378879356 on the validation set, which is almost as the LGBM model. Tuning Catboost is much easier and faster than LGBM, and small changes don't have a big impact on the results. "
   ]
  },
  {
   "cell_type": "markdown",
   "id": "094a8e6f",
   "metadata": {
    "heading_collapsed": true
   },
   "source": [
    "### XGB Classifier"
   ]
  },
  {
   "cell_type": "code",
   "execution_count": 84,
   "id": "3099821c",
   "metadata": {
    "hidden": true
   },
   "outputs": [],
   "source": [
    "from xgboost import XGBClassifier"
   ]
  },
  {
   "cell_type": "code",
   "execution_count": 90,
   "id": "a63bac24",
   "metadata": {
    "code_folding": [],
    "hidden": true,
    "scrolled": false
   },
   "outputs": [
    {
     "name": "stdout",
     "output_type": "stream",
     "text": [
      "depth 5\n",
      "est 250\n",
      "0.7940591568689757\n",
      "auc-roc of the XGBClassifier model on the validation set: 0.7940591568689757\n"
     ]
    }
   ],
   "source": [
    "m_depth = 5\n",
    "m_est = 250\n",
    "max_roc = 0\n",
    "# for i in range(1, 31):\n",
    "#     for xi in range(50, 350, 50):\n",
    "#         clear_output(wait=True)\n",
    "#         print(i)\n",
    "#         print(xi)\n",
    "#         print(max_roc)\n",
    "#         model_5 = XGBClassifier(objective='binary:hinge',\n",
    "#                                  eval_metric='auc',\n",
    "#                                  max_depth=i,\n",
    "#                                  n_estimators=xi,\n",
    "#                                  colsample_bytree=0.5,\n",
    "#                                  learning_rate=0.1,\n",
    "#                                  subsample=0.6,\n",
    "#                                  random_state=12345\n",
    "#                                 )\n",
    "#         model_5.fit(features_train, target_train)\n",
    "#         predict_valid = model_5.predict_proba(features_valid)\n",
    "#         predict_valid = predict_valid[:,1]\n",
    "#         fpr, tpr, threshold = roc_curve(target_valid, predict_valid)\n",
    "#         auc_roc = auc(fpr,tpr)\n",
    "#         if auc_roc > max_roc:\n",
    "#             max_roc = auc_roc\n",
    "#             m_depth = i\n",
    "#             m_est = xi\n",
    "        \n",
    "clear_output()       \n",
    "print(f'depth {m_depth}')\n",
    "print(f'est {m_est}')\n",
    "print(max_roc)\n",
    "model_5 = XGBClassifier(objective='binary:hinge',\n",
    "                                 max_depth=m_depth,\n",
    "                                 n_estimators=m_est,\n",
    "                                 colsample_bytree=0.5,\n",
    "                                 learning_rate=0.1,\n",
    "                                 subsample=0.6,\n",
    "                                 random_state=12345\n",
    "                                )\n",
    "model_5.fit(features_train, target_train)\n",
    "predict_valid = model_5.predict_proba(features_valid)\n",
    "predict_valid = predict_valid[:,1]\n",
    "fpr, tpr, threshold = roc_curve(target_valid, predict_valid)\n",
    "auc_roc = auc(fpr,tpr)\n",
    "print(\"auc-roc of the XGBClassifier model on the validation set:\", auc_roc)"
   ]
  },
  {
   "cell_type": "markdown",
   "id": "20c29afd",
   "metadata": {
    "hidden": true
   },
   "source": [
    "The XGB Classifier achieved a score of 0.7940591568689757 on the validation set, which does not meet customer requirements"
   ]
  },
  {
   "cell_type": "markdown",
   "id": "a5ddafcc",
   "metadata": {
    "heading_collapsed": true
   },
   "source": [
    "## Conclusions"
   ]
  },
  {
   "cell_type": "code",
   "execution_count": 86,
   "id": "d525cece",
   "metadata": {
    "hidden": true,
    "scrolled": true
   },
   "outputs": [
    {
     "name": "stdout",
     "output_type": "stream",
     "text": [
      "auc-roc of the Random Forest model on the validation set:\n",
      " 0.9040502979928909\n"
     ]
    }
   ],
   "source": [
    "prob_predict = model_4.predict_proba(features_test)\n",
    "prob_predict = prob_predict[:,1] #Taking probability of positive class\n",
    "fpr, tpr, threshold = roc_curve(target_test, prob_predict)\n",
    "auc_roc = auc(fpr,tpr)\n",
    "print(\"auc-roc of the Random Forest model on the validation set:\\n\", auc_roc)"
   ]
  },
  {
   "cell_type": "markdown",
   "id": "87da0916",
   "metadata": {
    "hidden": true
   },
   "source": [
    "Although 3 models achieve the minimum target of 0.85 AUC-ROC, the best model is the Catboost Classifier which achieves a score of 0.90 on the test set. The reason for this is that the other models have significant problems with overfitting, and therefore cannot be reliably depended on to give consistent outcomes."
   ]
  },
  {
   "cell_type": "markdown",
   "id": "6f4d5f27",
   "metadata": {
    "hidden": true
   },
   "source": [
    "We would suggest the customer choose to use the Catboost model for their needs, as with the dataset that they have it gives the best prediction whether the customer will cancel or not, with around a 86% accuracy, and with the most consistency. "
   ]
  },
  {
   "cell_type": "markdown",
   "id": "686458ab",
   "metadata": {
    "heading_collapsed": true
   },
   "source": [
    "## Final Report"
   ]
  },
  {
   "cell_type": "markdown",
   "id": "0ef72b34",
   "metadata": {
    "hidden": true
   },
   "source": [
    "The project that we were given by Interconnect is to create a model for predicting the Churn of their clients. For this we were given several years of data, which concluded at 2020-01-01 00:00:00. \n",
    "\n",
    "The data that we received was clean but consisted of 4 different files, which had to be merged together. There was a file for personal details and a file for contract details, these files contained all clients. There was also a file for internet services and a file for phone services, the client could appear in either one or both of these files. \n",
    "\n",
    "With that out of the way the first step before analysis could begin was to convert much of the data into Numerical data before the initial analysis, and to plot histograms with this. We were able to identify some class imbalance by doing this. \n",
    "\n",
    "There were several things mentioned in the planning stage that we considered important for creating models. First we needed to create a target model. This was simple to do, as we just set the target to `0` if there was not an EndDate and to `1` if there was an EndDate. \n",
    "\n",
    "During my planning stage I had not worked out how to deal with the date field, but during the preprocessing I decided convert this to the number of days in the contract. We did that by calculating the difference between the start date and the end date, and storing that as the number of days between them. \n",
    "\n",
    "We also attempted to address class imbalance, we did this by looking at the different variables that appeared less than others, and looked at the balance of ended contracts in those compared to the main data set. We found the biggest difference was based on contract length, with those having 2 year contracts rarely cancelling. We then attempted upsampling by increasing the representation of cancelled contracts among the population that had 2 year contracts. When creating the models however we discovered that this actually decreased the accuracy, so it was eventually abandoned. \n",
    "\n",
    "Another error we noticed was that `TotalCharges` column had some empty values if the customer signed up on the last day of the dataset. We filled the values with 0 as we believe the customer had not yet been billed for the service. \n",
    "\n",
    "We split the dataset 60-20-20 into Training, validation, and test sets. After the data was split we trained a number of different models. We brute forced the tuning of some hyperparameters, and took the most successful models from that and tuned them some more. \n",
    "\n",
    "In the end the 2 models that we focused on were LGBMClassifier and CatboostClassifier. \n",
    "\n",
    "The LGBM classifier required a lot more tuning to get a very high accuracy with a AUC-ROC score of above 90. In fact we had to tune 4 parameters for this. This lead to the concern that there was overfitting in the dataset. \n",
    "\n",
    "The Catboost Classifier was much faster to tune, and only required 2 parameters, and although the AUC-ROC score was slightly lower in tuning, we felt that there was lower risk of overfitting. \n",
    "\n",
    "The model that was chosen to use on the test set was the Catboost Classifier, and the final AUC-ROC score that we achieved on that was over 90, which is well above the target that was set for the project. It should be noted that the model was created using GPU, with CPU models sometimes being less accurate this could have had some impact on the end result. "
   ]
  },
  {
   "cell_type": "code",
   "execution_count": null,
   "id": "536d196c",
   "metadata": {
    "hidden": true
   },
   "outputs": [],
   "source": []
  }
 ],
 "metadata": {
  "hide_input": false,
  "kernelspec": {
   "display_name": "Python 3 (ipykernel)",
   "language": "python",
   "name": "python3"
  },
  "language_info": {
   "codemirror_mode": {
    "name": "ipython",
    "version": 3
   },
   "file_extension": ".py",
   "mimetype": "text/x-python",
   "name": "python",
   "nbconvert_exporter": "python",
   "pygments_lexer": "ipython3",
   "version": "3.9.12"
  },
  "toc": {
   "base_numbering": 1,
   "nav_menu": {},
   "number_sections": true,
   "sideBar": true,
   "skip_h1_title": false,
   "title_cell": "Table of Contents",
   "title_sidebar": "Contents",
   "toc_cell": true,
   "toc_position": {},
   "toc_section_display": true,
   "toc_window_display": true
  },
  "varInspector": {
   "cols": {
    "lenName": 16,
    "lenType": 16,
    "lenVar": 40
   },
   "kernels_config": {
    "python": {
     "delete_cmd_postfix": "",
     "delete_cmd_prefix": "del ",
     "library": "var_list.py",
     "varRefreshCmd": "print(var_dic_list())"
    },
    "r": {
     "delete_cmd_postfix": ") ",
     "delete_cmd_prefix": "rm(",
     "library": "var_list.r",
     "varRefreshCmd": "cat(var_dic_list()) "
    }
   },
   "types_to_exclude": [
    "module",
    "function",
    "builtin_function_or_method",
    "instance",
    "_Feature"
   ],
   "window_display": false
  }
 },
 "nbformat": 4,
 "nbformat_minor": 5
}
